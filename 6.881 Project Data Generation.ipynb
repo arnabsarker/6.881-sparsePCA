{
 "cells": [
  {
   "cell_type": "code",
   "execution_count": 2,
   "metadata": {},
   "outputs": [],
   "source": [
    "import pandas as pd\n",
    "import numpy as np"
   ]
  },
  {
   "cell_type": "code",
   "execution_count": 24,
   "metadata": {},
   "outputs": [],
   "source": [
    "# Generate an n x 10 vector according to the Hastie paper\n",
    "def generate_hastie_synthetic(n):\n",
    "    V1 = np.random.randn(n) * np.sqrt(290)\n",
    "    V2 = np.random.randn(n) * np.sqrt(300)\n",
    "    V3 = V1 + V2 + np.random.randn()\n",
    "    X = np.zeros((n, 10))\n",
    "    X[:, 0:4] = np.tile(V1 + np.random.randn(), (4, 1)).T\n",
    "    X[:, 4:8] = np.tile(V2 + np.random.randn(), (4, 1)).T\n",
    "    X[:, 8:] = np.tile(V3 + np.random.randn(), (2, 1)).T\n",
    "    return X"
   ]
  },
  {
   "cell_type": "code",
   "execution_count": 26,
   "metadata": {},
   "outputs": [],
   "source": [
    "# Generate an n x 10 vector according to the Hastie paper\n",
    "def generate_generic_synthetic(n, p, variances):\n",
    "    V1 = np.random.randn(n) * np.sqrt(variances[0])\n",
    "    V2 = np.random.randn(n) * np.sqrt(variances[1])\n",
    "    V3 = V1 + V2 + np.random.randn(variances[3])\n",
    "    X = np.zeros((n, 10))\n",
    "    cutoff = int(p / 5) * 2 \n",
    "    X[:, 0:cutoff] = np.tile(V1 + np.random.randn(), (4, 1)).T\n",
    "    X[:, cutoff:(2*cutoff)] = np.tile(V2 + np.random.randn(), (4, 1)).T\n",
    "    X[:, (2*cutoff):] = np.tile(V3 + np.random.randn(), (2, 1)).T\n",
    "    return X"
   ]
  },
  {
   "cell_type": "code",
   "execution_count": 15,
   "metadata": {},
   "outputs": [
    {
     "data": {
      "text/plain": [
       "array([[-35.2484245 ,  -5.17524996,   2.88209712,   2.10561911,\n",
       "          6.97224355, -28.2105997 , -16.59314801,   8.32699643,\n",
       "         18.46402343,  22.96767724,   8.68067481,  26.32851987,\n",
       "          7.49955171,  -5.92876826, -13.77790426],\n",
       "       [-35.2484245 ,  -5.17524996,   2.88209712,   2.10561911,\n",
       "          6.97224355, -28.2105997 , -16.59314801,   8.32699643,\n",
       "         18.46402343,  22.96767724,   8.68067481,  26.32851987,\n",
       "          7.49955171,  -5.92876826, -13.77790426],\n",
       "       [-35.2484245 ,  -5.17524996,   2.88209712,   2.10561911,\n",
       "          6.97224355, -28.2105997 , -16.59314801,   8.32699643,\n",
       "         18.46402343,  22.96767724,   8.68067481,  26.32851987,\n",
       "          7.49955171,  -5.92876826, -13.77790426],\n",
       "       [-35.2484245 ,  -5.17524996,   2.88209712,   2.10561911,\n",
       "          6.97224355, -28.2105997 , -16.59314801,   8.32699643,\n",
       "         18.46402343,  22.96767724,   8.68067481,  26.32851987,\n",
       "          7.49955171,  -5.92876826, -13.77790426]])"
      ]
     },
     "execution_count": 15,
     "metadata": {},
     "output_type": "execute_result"
    }
   ],
   "source": []
  },
  {
   "cell_type": "code",
   "execution_count": null,
   "metadata": {},
   "outputs": [],
   "source": []
  }
 ],
 "metadata": {
  "kernelspec": {
   "display_name": "Python 3",
   "language": "python",
   "name": "python3"
  },
  "language_info": {
   "codemirror_mode": {
    "name": "ipython",
    "version": 3
   },
   "file_extension": ".py",
   "mimetype": "text/x-python",
   "name": "python",
   "nbconvert_exporter": "python",
   "pygments_lexer": "ipython3",
   "version": "3.7.3"
  }
 },
 "nbformat": 4,
 "nbformat_minor": 2
}
