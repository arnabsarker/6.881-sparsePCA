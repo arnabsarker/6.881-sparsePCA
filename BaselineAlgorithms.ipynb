{
 "cells": [
  {
   "cell_type": "code",
   "execution_count": 34,
   "metadata": {},
   "outputs": [],
   "source": [
    "import numpy as np\n",
    "import time\n",
    "from sklearn.decomposition import PCA, SparsePCA\n",
    "from scipy.linalg import svd"
   ]
  },
  {
   "cell_type": "markdown",
   "metadata": {},
   "source": [
    "# Load Data"
   ]
  },
  {
   "cell_type": "code",
   "execution_count": 3,
   "metadata": {},
   "outputs": [],
   "source": [
    "hastie_synthetic = np.loadtxt('data/hastie_synthetic.csv')"
   ]
  },
  {
   "cell_type": "markdown",
   "metadata": {},
   "source": [
    "## Run Baseline Algorithms"
   ]
  },
  {
   "cell_type": "code",
   "execution_count": 177,
   "metadata": {},
   "outputs": [],
   "source": [
    "curr_dataset = hastie_synthetic\n",
    "number_components = 3"
   ]
  },
  {
   "cell_type": "markdown",
   "metadata": {},
   "source": [
    "### PCA"
   ]
  },
  {
   "cell_type": "code",
   "execution_count": 178,
   "metadata": {},
   "outputs": [],
   "source": [
    "start = time.time()\n",
    "pca = PCA(n_components=number_components, svd_solver='full')\n",
    "PCAResult = pca.fit(curr_dataset)\n",
    "pca_time_result = time.time() - start"
   ]
  },
  {
   "cell_type": "markdown",
   "metadata": {},
   "source": [
    "### Sparse PCA"
   ]
  },
  {
   "cell_type": "code",
   "execution_count": 179,
   "metadata": {},
   "outputs": [
    {
     "name": "stderr",
     "output_type": "stream",
     "text": [
      "/Users/arnabsarker/anaconda3/lib/python3.7/site-packages/sklearn/decomposition/sparse_pca.py:170: DeprecationWarning: normalize_components=False is a backward-compatible setting that implements a non-standard definition of sparse PCA. This compatibility mode will be removed in 0.22.\n",
      "  DeprecationWarning)\n"
     ]
    }
   ],
   "source": [
    "start = time.time()\n",
    "spca = SparsePCA(n_components=number_components, method='cd')\n",
    "SPCAResult = spca.fit(curr_dataset)\n",
    "spca_time_result = time.time() - start"
   ]
  },
  {
   "cell_type": "markdown",
   "metadata": {},
   "source": [
    "### Shen et al. Algorithm"
   ]
  },
  {
   "cell_type": "code",
   "execution_count": 183,
   "metadata": {},
   "outputs": [],
   "source": [
    "def hard_thresh(vec, lam):\n",
    "    return np.multiply(vec, np.abs(vec) > lam)\n",
    "\n",
    "def soft_thresh(vec, lam):\n",
    "    return np.multiply(vec - lam * np.sign(vec), np.abs(vec) > lam)\n",
    "\n",
    "def scad(vec, lam, a=3.7):\n",
    "    return np.multiply(np.multiply(vec - lam * np.sign(vec), np.abs(vec) > lam), np.abs(vec) < (2*lam)) + \\\n",
    "            np.multiply(vec, np.abs(vec) > a * lam) + \\\n",
    "            np.multiply(np.multiply(((a - 1) * vec - np.sign(vec) * lam * a )/ (a - 2), \\\n",
    "                                    np.abs(vec) > (2*lam)), np.abs(vec) < (a*lam))\n",
    "\n",
    "def shen_alg(data, num_components, lam, threshold_fun):\n",
    "    components = np.zeros((num_components, data.shape[1]))\n",
    "    \n",
    "    curr_data = data\n",
    "    for i in range(0,num_components):\n",
    "        (U, s, Vh) = svd(curr_data)\n",
    "        curr_u = U.T[0]\n",
    "        curr_v = Vh[0]\n",
    "        curr_s = s[0]\n",
    "        \n",
    "        j = 0\n",
    "        while(j < 1000):\n",
    "            curr_v = threshold_fun(np.matmul(curr_data.T, curr_u), lam)\n",
    "            curr_u = np.matmul(curr_data, curr_v)\n",
    "            if(np.linalg.norm(curr_u) > 0):\n",
    "                curr_u = curr_u / np.linalg.norm(curr_u)\n",
    "            \n",
    "            j = j + 1\n",
    "        if(np.linalg.norm(curr_v) > 0):\n",
    "                curr_v = curr_v / np.linalg.norm(curr_v)\n",
    "        components[i] = curr_v\n",
    "          \n",
    "        curr_data = curr_data - curr_s * np.outer(curr_u, curr_v)\n",
    "\n",
    "    return components"
   ]
  },
  {
   "cell_type": "code",
   "execution_count": 184,
   "metadata": {},
   "outputs": [],
   "source": [
    "lam = 200\n",
    "start = time.time()\n",
    "shen_alg_result = shen_alg(curr_dataset, number_components, lam, scad)\n",
    "shen_alg_time_result = time.time() - start"
   ]
  },
  {
   "cell_type": "markdown",
   "metadata": {},
   "source": [
    "## Collect and Store Baseline Algorithm Data"
   ]
  },
  {
   "cell_type": "code",
   "execution_count": 27,
   "metadata": {},
   "outputs": [
    {
     "data": {
      "text/plain": [
       "0.0014750957489013672"
      ]
     },
     "execution_count": 27,
     "metadata": {},
     "output_type": "execute_result"
    }
   ],
   "source": [
    "time_result"
   ]
  },
  {
   "cell_type": "code",
   "execution_count": 185,
   "metadata": {},
   "outputs": [
    {
     "data": {
      "text/plain": [
       "array([[ 0.        ,  0.        ,  0.        ,  0.        ,  0.        ,\n",
       "         0.        ,  0.        ,  0.        , -0.70710678, -0.70710678],\n",
       "       [ 0.        ,  0.        ,  0.        ,  0.        , -0.5       ,\n",
       "        -0.5       , -0.5       , -0.5       ,  0.        ,  0.        ],\n",
       "       [-0.5       , -0.5       , -0.5       , -0.5       ,  0.        ,\n",
       "         0.        ,  0.        ,  0.        ,  0.        ,  0.        ]])"
      ]
     },
     "execution_count": 185,
     "metadata": {},
     "output_type": "execute_result"
    }
   ],
   "source": [
    "shen_alg_result"
   ]
  },
  {
   "cell_type": "code",
   "execution_count": 38,
   "metadata": {},
   "outputs": [],
   "source": [
    "(U, s, Vh) = svd(curr_dataset)"
   ]
  },
  {
   "cell_type": "code",
   "execution_count": 57,
   "metadata": {},
   "outputs": [
    {
     "data": {
      "text/plain": [
       "(200, 10)"
      ]
     },
     "execution_count": 57,
     "metadata": {},
     "output_type": "execute_result"
    }
   ],
   "source": [
    "curr_dataset.shape"
   ]
  },
  {
   "cell_type": "code",
   "execution_count": null,
   "metadata": {},
   "outputs": [],
   "source": []
  }
 ],
 "metadata": {
  "kernelspec": {
   "display_name": "Python 3",
   "language": "python",
   "name": "python3"
  },
  "language_info": {
   "codemirror_mode": {
    "name": "ipython",
    "version": 3
   },
   "file_extension": ".py",
   "mimetype": "text/x-python",
   "name": "python",
   "nbconvert_exporter": "python",
   "pygments_lexer": "ipython3",
   "version": "3.7.3"
  }
 },
 "nbformat": 4,
 "nbformat_minor": 2
}
