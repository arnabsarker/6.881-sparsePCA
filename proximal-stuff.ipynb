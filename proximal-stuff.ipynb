{
 "cells": [
  {
   "cell_type": "code",
   "execution_count": 145,
   "metadata": {},
   "outputs": [],
   "source": [
    "import numpy as np\n",
    "import time\n",
    "from sklearn.decomposition import PCA, SparsePCA\n",
    "from scipy.linalg import svd"
   ]
  },
  {
   "cell_type": "code",
   "execution_count": 461,
   "metadata": {},
   "outputs": [],
   "source": [
    "def piecewise(val,cond):\n",
    "    return val * cond\n",
    "\n",
    "def scad(vec, lam, a=3.7):\n",
    "    return np.multiply(np.multiply(vec - lam * np.sign(vec), np.abs(vec) > lam), np.abs(vec) < (2*lam)) + \\\n",
    "            np.multiply(vec, np.abs(vec) > a * lam) + \\\n",
    "            np.multiply(np.multiply(((a - 1) * vec - np.sign(vec) * lam * a )/ (a - 2), \\\n",
    "                                    np.abs(vec) > (2*lam)), np.abs(vec) < (a*lam))\n",
    "\n",
    "def l2_project(beta):\n",
    "    if np.linalg.norm(beta) > 0:\n",
    "        return beta/np.linalg.norm(beta)\n",
    "    else:\n",
    "        return beta\n",
    "\n",
    "def scad_obj(vec, lamb, a=3.7):\n",
    "    piece1 = piecewise(lamb*np.abs(vec),np.abs(vec)<=lamb)\n",
    "    piece2 = piecewise(1/(2*(a-1))*(2*a*lamb*np.abs(vec)-vec**2-lamb**2),np.logical_and(lamb<np.abs(vec),np.abs(vec)<=a*lamb))\n",
    "    piece3 = piecewise(lamb**2*(a+1)/2,a*lamb<np.abs(vec))\n",
    "    return np.sum(piece1+piece2+piece3)\n",
    "\n",
    "# Gradient of pca objective ||Sigma-beta beta^T||_F^2\n",
    "def PCA_grad(Sigma,beta):\n",
    "    return 4*(-np.dot(Sigma,beta)+np.sum(np.square(beta))*beta)\n",
    "\n",
    "# SCAD = L1 - cvx\n",
    "# This is the gradient of the -cvx part\n",
    "def SCAD_ccv_grad(beta,lamb,a=3.7):\n",
    "    piece1 = piecewise(0,np.abs(beta)<=lamb)\n",
    "    piece2 = piecewise(1/(a-1)*(beta-lamb*np.sign(beta)),np.logical_and(lamb<np.abs(beta),np.abs(beta)<=a*lamb))\n",
    "    piece3 = piecewise(lamb*np.sign(beta),np.abs(beta)>a*lamb)\n",
    "    return -(piece1+piece2+piece3)\n",
    "\n",
    "# Proximal operator for L1\n",
    "def prox_l1(v,c):\n",
    "    return np.sign(v) * np.maximum(np.abs(v)-c,0)\n",
    "\n",
    "def PCA_obj(Sigma,beta):\n",
    "    return -2*np.dot(beta,np.dot(Sigma,beta))+np.linalg.norm(beta)**4\n",
    "\n",
    "def l1_obj(beta,lamb):\n",
    "    return lamb*np.sum(np.abs(beta))\n",
    "\n",
    "# This is the objective function for SCAD\n",
    "def full_scad_obj(Sigma,beta,lamb,a=3.7):\n",
    "    return PCA_obj(Sigma,beta)+l1_obj(beta,lamb)+scad_obj(beta,lamb,a)\n",
    "\n",
    "# def prox_line_search(f,x,lamb,beta=.5):\n",
    "#    while f()"
   ]
  },
  {
   "cell_type": "code",
   "execution_count": 428,
   "metadata": {},
   "outputs": [],
   "source": [
    "# Squared error between both beta1 and beta2 and the normalized versions\n",
    "def sq_error(beta1,beta2):\n",
    "    return np.linalg.norm(beta1-beta2), np.linalg.norm(l2_project(beta1)-l2_project(beta2))"
   ]
  },
  {
   "cell_type": "markdown",
   "metadata": {},
   "source": [
    "# Spiked covariance"
   ]
  },
  {
   "cell_type": "code",
   "execution_count": 409,
   "metadata": {},
   "outputs": [],
   "source": [
    "# Generates n samples from spiked covariance model of dimension d, spike at u with signal strength gamma\n",
    "def spiked_cov(n,d,u,gamma=1,return_cov=False):\n",
    "    u = u / np.linalg.norm(u)\n",
    "    cov = np.eye(d) + gamma * np.outer(u,u)\n",
    "    X = np.random.multivariate_normal(np.zeros(d),cov,size=n)\n",
    "    if return_cov:\n",
    "        return X, cov\n",
    "    else:\n",
    "        return X\n",
    "\n",
    "# First s entries are 1\n",
    "def equal_spike(n,d,s,gamma=1,return_cov=False):\n",
    "    u = np.zeros(d)\n",
    "    u[:s] = 1\n",
    "    return spiked_cov(n,d,u,gamma,return_cov)\n",
    "\n",
    "# First entry is alpha, next s-1 entries are 1\n",
    "def heavy_spike(n,d,s,gamma=1,alpha=10,return_cov=False):\n",
    "    u = np.zeros(d)\n",
    "    u[0] = alpha\n",
    "    u[1:s] = 1\n",
    "    return spiked_cov(n,d,u,gamma,return_cov)"
   ]
  },
  {
   "cell_type": "code",
   "execution_count": 414,
   "metadata": {},
   "outputs": [],
   "source": [
    "n = 100\n",
    "d = 100\n",
    "s = 3\n",
    "X, pop_cov = equal_spike(n,d,s,return_cov=True)\n",
    "Sigma = 1/n*np.dot(X.T,X)"
   ]
  },
  {
   "cell_type": "code",
   "execution_count": 415,
   "metadata": {},
   "outputs": [
    {
     "data": {
      "text/plain": [
       "array([ 0.49103353,  0.29244547, -0.26435044, -0.15085905, -0.27344925,\n",
       "       -0.12109424,  0.03061356,  0.23979675, -0.46211643, -0.35414544,\n",
       "        0.10609232, -0.39355174, -0.50341342,  0.28083273,  0.19105065,\n",
       "       -0.27204018,  0.87212716,  0.43091088, -1.05716247, -0.12479894,\n",
       "       -0.85729299, -0.09514107,  0.03233783,  0.28643319,  0.06686729,\n",
       "        0.1382467 ,  0.50146514, -0.34881104,  0.15927123,  0.15474773,\n",
       "       -0.62193887, -0.00481112,  0.89110927, -0.6387605 , -0.03228966,\n",
       "        0.25348733, -0.00242237, -0.07988267,  0.13281305,  0.30014211,\n",
       "       -0.50343714,  0.0071035 ,  0.13959575, -0.77137577,  0.40728385,\n",
       "       -0.12284313,  0.62295034, -0.25545596,  0.02335565,  0.55835883,\n",
       "        0.10199057, -0.11032168,  1.27460622, -0.05667704, -0.26534071,\n",
       "        0.24923834,  0.47479569,  0.08377471, -0.2873278 , -0.35100261,\n",
       "        0.15552442, -0.15743252, -0.21745082,  0.55090305,  0.83135824,\n",
       "       -0.28514954, -0.11717398, -0.13867947, -0.15315109, -0.24768846,\n",
       "        0.84760417,  0.20050029,  0.20897395, -0.38654511, -0.73264721,\n",
       "        0.0777618 ,  0.02580459, -0.39236434, -0.08002143, -0.75898809,\n",
       "        0.1667977 , -0.26165985,  0.04509283, -0.02136578,  0.29718437,\n",
       "        0.17028813,  0.3069671 , -0.48983579, -0.18027066, -0.47242274,\n",
       "        0.32478276,  0.36213303, -0.11566815, -0.06322844,  0.18847151,\n",
       "        0.21000136,  0.11660231, -0.25174824,  0.23010237, -0.41626641])"
      ]
     },
     "execution_count": 415,
     "metadata": {},
     "output_type": "execute_result"
    }
   ],
   "source": [
    "sample_vals, sample_vecs = np.linalg.eigh(Sigma)\n",
    "sample_vecs[:,d-1]*sample_vals[d-1]"
   ]
  },
  {
   "cell_type": "code",
   "execution_count": 416,
   "metadata": {},
   "outputs": [
    {
     "data": {
      "text/plain": [
       "array([-1.15470054, -1.15470054, -1.15470054,  0.        ,  0.        ,\n",
       "        0.        ,  0.        ,  0.        ,  0.        ,  0.        ,\n",
       "        0.        ,  0.        ,  0.        ,  0.        ,  0.        ,\n",
       "        0.        ,  0.        ,  0.        ,  0.        ,  0.        ,\n",
       "        0.        ,  0.        ,  0.        ,  0.        ,  0.        ,\n",
       "        0.        ,  0.        ,  0.        ,  0.        ,  0.        ,\n",
       "        0.        ,  0.        ,  0.        ,  0.        ,  0.        ,\n",
       "        0.        ,  0.        ,  0.        ,  0.        ,  0.        ,\n",
       "        0.        ,  0.        ,  0.        ,  0.        ,  0.        ,\n",
       "        0.        ,  0.        ,  0.        ,  0.        ,  0.        ,\n",
       "        0.        ,  0.        ,  0.        ,  0.        ,  0.        ,\n",
       "        0.        ,  0.        ,  0.        ,  0.        ,  0.        ,\n",
       "        0.        ,  0.        ,  0.        ,  0.        ,  0.        ,\n",
       "        0.        ,  0.        ,  0.        ,  0.        ,  0.        ,\n",
       "        0.        ,  0.        ,  0.        ,  0.        ,  0.        ,\n",
       "        0.        ,  0.        ,  0.        ,  0.        ,  0.        ,\n",
       "        0.        ,  0.        ,  0.        ,  0.        ,  0.        ,\n",
       "        0.        ,  0.        ,  0.        ,  0.        ,  0.        ,\n",
       "        0.        ,  0.        ,  0.        ,  0.        ,  0.        ,\n",
       "        0.        ,  0.        ,  0.        ,  0.        ,  0.        ])"
      ]
     },
     "execution_count": 416,
     "metadata": {},
     "output_type": "execute_result"
    }
   ],
   "source": [
    "pop_vals, pop_vecs = np.linalg.eigh(pop_cov)\n",
    "pop_vecs[:,d-1]*pop_vals[d-1]"
   ]
  },
  {
   "cell_type": "code",
   "execution_count": 413,
   "metadata": {},
   "outputs": [
    {
     "data": {
      "text/plain": [
       "array([0.99014754, 0.09901475, 0.09901475, 0.        , 0.        ,\n",
       "       0.        , 0.        , 0.        , 0.        , 0.        ,\n",
       "       0.        , 0.        , 0.        , 0.        , 0.        ,\n",
       "       0.        , 0.        , 0.        , 0.        , 0.        ,\n",
       "       0.        , 0.        , 0.        , 0.        , 0.        ,\n",
       "       0.        , 0.        , 0.        , 0.        , 0.        ,\n",
       "       0.        , 0.        , 0.        , 0.        , 0.        ,\n",
       "       0.        , 0.        , 0.        , 0.        , 0.        ,\n",
       "       0.        , 0.        , 0.        , 0.        , 0.        ,\n",
       "       0.        , 0.        , 0.        , 0.        , 0.        ,\n",
       "       0.        , 0.        , 0.        , 0.        , 0.        ,\n",
       "       0.        , 0.        , 0.        , 0.        , 0.        ,\n",
       "       0.        , 0.        , 0.        , 0.        , 0.        ,\n",
       "       0.        , 0.        , 0.        , 0.        , 0.        ,\n",
       "       0.        , 0.        , 0.        , 0.        , 0.        ,\n",
       "       0.        , 0.        , 0.        , 0.        , 0.        ,\n",
       "       0.        , 0.        , 0.        , 0.        , 0.        ,\n",
       "       0.        , 0.        , 0.        , 0.        , 0.        ,\n",
       "       0.        , 0.        , 0.        , 0.        , 0.        ,\n",
       "       0.        , 0.        , 0.        , 0.        , 0.        ])"
      ]
     },
     "execution_count": 413,
     "metadata": {},
     "output_type": "execute_result"
    }
   ],
   "source": [
    "pop_vecs[:,d-1]"
   ]
  },
  {
   "cell_type": "code",
   "execution_count": 429,
   "metadata": {},
   "outputs": [],
   "source": [
    "beta_star = pop_vecs[:,d-1]*pop_vals[d-1]\n",
    "beta_star_normalized = pop_vecs[:,d-1]"
   ]
  },
  {
   "cell_type": "code",
   "execution_count": 417,
   "metadata": {},
   "outputs": [
    {
     "data": {
      "text/plain": [
       "array([[ 0.15382809,  0.        , -0.        , -0.        , -0.02777704,\n",
       "        -0.        ,  0.        ,  0.        , -0.08088788, -0.07362778,\n",
       "         0.        , -0.        , -0.16957108,  0.        ,  0.03434963,\n",
       "        -0.02472015,  0.27023191,  0.07351617, -0.38875987, -0.        ,\n",
       "        -0.27801209, -0.        ,  0.        ,  0.04009413,  0.        ,\n",
       "         0.        ,  0.08549262, -0.04285539,  0.        ,  0.        ,\n",
       "        -0.16516448, -0.        ,  0.1966918 , -0.16582011, -0.        ,\n",
       "         0.        ,  0.        ,  0.        ,  0.        ,  0.01931189,\n",
       "        -0.17336274,  0.        ,  0.        , -0.223052  ,  0.08631443,\n",
       "        -0.        ,  0.11180472, -0.        , -0.        ,  0.09858329,\n",
       "         0.        , -0.        ,  0.44339876,  0.        , -0.00314691,\n",
       "         0.        ,  0.05221759,  0.        , -0.        , -0.02323712,\n",
       "         0.        , -0.        , -0.        ,  0.16124078,  0.12804103,\n",
       "        -0.        ,  0.        , -0.        , -0.        , -0.        ,\n",
       "         0.27865934,  0.        ,  0.        , -0.        , -0.16606898,\n",
       "         0.        ,  0.        , -0.06204962, -0.        , -0.17905205,\n",
       "         0.        , -0.00126289, -0.        ,  0.        ,  0.        ,\n",
       "         0.        ,  0.        , -0.04980613, -0.        , -0.12984068,\n",
       "         0.        ,  0.        , -0.        , -0.        ,  0.02315076,\n",
       "         0.        ,  0.        , -0.01182242,  0.02890739, -0.08872371]])"
      ]
     },
     "execution_count": 417,
     "metadata": {},
     "output_type": "execute_result"
    }
   ],
   "source": [
    "start = time.time()\n",
    "spca = SparsePCA(n_components=1, method='cd',normalize_components=True)\n",
    "SPCAResult = spca.fit(X)\n",
    "spca_time_result = time.time() - start\n",
    "SPCAResult.components_"
   ]
  },
  {
   "cell_type": "markdown",
   "metadata": {},
   "source": [
    "# Useful functions"
   ]
  },
  {
   "cell_type": "code",
   "execution_count": 317,
   "metadata": {},
   "outputs": [],
   "source": [
    "# Gradient of pca objective ||Sigma-beta beta^T||_F^2\n",
    "def PCA_grad(Sigma,beta):\n",
    "    return 4*(-np.dot(Sigma,beta)+np.sum(np.square(beta))*beta)\n",
    "\n",
    "# SCAD = L1 - cvx\n",
    "# This is the gradient of the -cvx part\n",
    "def SCAD_ccv_grad(beta,lamb,a=3.7):\n",
    "    piece1 = piecewise(0,np.abs(beta)<=lamb)\n",
    "    piece2 = piecewise(1/(a-1)*(beta-lamb*np.sign(beta)),np.logical_and(lamb<np.abs(beta),np.abs(beta)<=a*lamb))\n",
    "    piece3 = piecewise(lamb*np.sign(beta),np.abs(beta)>a*lamb)\n",
    "    return -(piece1+piece2+piece3)\n",
    "\n",
    "# Proximal operator for L1\n",
    "def prox_l1(v,c):\n",
    "    return np.sign(v) * np.maximum(np.abs(v)-c,0)"
   ]
  },
  {
   "cell_type": "markdown",
   "metadata": {},
   "source": [
    "# SCAD subgradient descent"
   ]
  },
  {
   "cell_type": "code",
   "execution_count": 462,
   "metadata": {},
   "outputs": [
    {
     "name": "stdout",
     "output_type": "stream",
     "text": [
      "[-7.44393726e-05 -3.72416438e-05 -9.61344601e-05 -1.70807216e-05\n",
      "  9.24718979e-06  1.51962927e-06 -4.02313543e-05  7.59676775e-06\n",
      "  3.99238289e-05  1.22758089e-05  1.02532751e-05 -2.23461435e-05\n",
      "  3.91517565e-05 -3.47333810e-05 -4.23482325e-05  4.96041931e-05\n",
      "  4.25177026e-05  1.56816894e-05  2.23820295e-05 -3.04108380e-05\n",
      "  4.14031091e-05 -4.28779939e-05 -3.63079635e-05 -1.89604372e-01\n",
      " -2.03922150e-05 -3.03995444e-05  4.64583440e-05 -8.71695468e-07\n",
      " -4.02382179e-05  7.18524928e-06  5.28107157e-05 -7.41936036e-06\n",
      " -9.02848520e-05 -3.46960633e-05  1.69810074e-05  9.11796262e-06\n",
      "  3.29341836e-05 -1.46443791e-05 -1.91407311e-05 -8.15435693e-06\n",
      "  2.91783953e-06  3.71023669e-05  2.50790424e-01 -5.67586899e-05\n",
      "  1.16871305e-05  2.96898601e-05 -3.87417513e-05 -3.12648471e-05\n",
      " -3.53440030e-05  8.16237661e-06  4.06993420e-05 -3.70182089e-07\n",
      "  3.43755413e-05 -6.69383310e-06 -2.66981912e-05 -3.15271483e-05\n",
      " -3.28440043e-05  3.00457884e-05 -1.25340012e-05 -3.52124426e-05\n",
      "  3.99490688e-05 -7.63313524e-05 -3.00177234e-05 -2.28576344e-05\n",
      "  4.83130220e-05 -3.64937937e-05 -4.79924021e-05 -4.70413395e-05\n",
      "  4.02581067e-06  6.36239217e-05  1.57104974e-05 -2.81009757e-05\n",
      " -7.42389838e-06  6.18635622e-06  1.12864629e-05  2.26222930e-05\n",
      "  8.60238740e-06 -2.65871025e-05 -3.76573433e-05 -4.07514757e-05\n",
      " -5.94206984e-05 -6.58692575e-05 -4.31139903e-05  2.85928292e-05\n",
      "  6.14353010e-06 -1.55822653e-05 -1.79692828e-05 -2.65968082e-05\n",
      " -4.24602998e-07 -2.12364879e-01  4.60860054e-05 -2.90448887e-05\n",
      " -4.33497875e-05  1.15425638e-01 -6.26854274e-01  2.17241132e-01\n",
      " -9.72842693e-06  1.62538330e-05  4.86914915e-05 -5.10576680e-05]\n",
      "(2.1440447189028244, 1.414103792360401)\n",
      "1.8893781927797915\n"
     ]
    }
   ],
   "source": [
    "lr = 0.005\n",
    "lamb = 1\n",
    "(U, s, Vh) = svd(X)\n",
    "beta = Vh[0]\n",
    "np.random.seed(70)\n",
    "beta=np.random.normal(size=d)\n",
    "for i in range(10000):\n",
    "    beta = beta - lr/np.sqrt(i+1) * (PCA_grad(Sigma,beta)+SCAD_ccv_grad(beta,lamb)+lamb*np.sign(beta))\n",
    "    # beta = scad(beta,lr * lamb)\n",
    "    #beta = beta + 0.001 * np.dot(Sigma, beta)\n",
    "    #beta=beta/np.linalg.norm(beta)\n",
    "print(beta)\n",
    "print(sq_error(beta,beta_star))\n",
    "print(full_scad_obj(Sigma,beta,lamb))"
   ]
  },
  {
   "cell_type": "markdown",
   "metadata": {},
   "source": [
    "# Naive prox with scad"
   ]
  },
  {
   "cell_type": "code",
   "execution_count": 464,
   "metadata": {},
   "outputs": [
    {
     "name": "stdout",
     "output_type": "stream",
     "text": [
      "[ 0.1774826   0.12993044 -0.23967228 -0.08165004  0.         -0.06197503\n",
      "  0.          0.12380861 -0.26884604 -0.16445795  0.10224173 -0.14153886\n",
      " -0.29615802  0.1697793   0.         -0.17683545  0.4565205   0.18957072\n",
      " -0.58173457 -0.10202168 -0.37274699 -0.11050367  0.04049804  0.13996664\n",
      " -0.05687112 -0.04356633  0.23288091 -0.16915059  0.          0.\n",
      " -0.34343587  0.12419591  0.42529974 -0.33964352  0.          0.\n",
      "  0.          0.          0.09698431  0.23635116 -0.2581341   0.\n",
      "  0.12521893 -0.37521095  0.2216513   0.          0.28432867 -0.19138299\n",
      " -0.00597474  0.26014487  0.09431562  0.          0.61835122  0.\n",
      " -0.15087829  0.11448623  0.24611873  0.03502403 -0.2248191  -0.2242475\n",
      "  0.          0.         -0.17133837  0.31675971  0.29796274  0.\n",
      " -0.0945043  -0.1105142  -0.09866021  0.          0.41872746  0.13756427\n",
      "  0.14022041 -0.11309197 -0.27919444  0.          0.06080437 -0.2548634\n",
      "  0.         -0.31626801  0.07675778 -0.15665367 -0.03311831  0.\n",
      "  0.13622498  0.07898932  0.18253884 -0.27020666  0.00715254 -0.20958625\n",
      "  0.17123165  0.22577561  0.          0.          0.          0.1710791\n",
      "  0.         -0.1157938   0.         -0.19212284]\n",
      "(2.837339993098188, 1.4281591626668708)\n",
      "13.764937199111932\n"
     ]
    }
   ],
   "source": [
    "lr = 0.001\n",
    "lamb = 1\n",
    "(U, s, Vh) = svd(X)\n",
    "beta = Vh[0]\n",
    "np.random.seed(70)\n",
    "beta=np.random.normal(size=d)\n",
    "for i in range(10000):\n",
    "    beta = beta - lr * PCA_grad(Sigma,beta)\n",
    "    beta = scad(beta,lr * lamb)\n",
    "    #beta = beta + 0.001 * np.dot(Sigma, beta)\n",
    "    #beta=beta/np.linalg.norm(beta)\n",
    "print(beta)\n",
    "print(sq_error(beta,beta_star))\n",
    "print(full_scad_obj(Sigma,beta,lamb))"
   ]
  },
  {
   "cell_type": "markdown",
   "metadata": {},
   "source": [
    "# Lasso via prox"
   ]
  },
  {
   "cell_type": "code",
   "execution_count": 469,
   "metadata": {},
   "outputs": [
    {
     "name": "stdout",
     "output_type": "stream",
     "text": [
      "[-0.33329601 -0.         -0.99692768 -0.20910204  0.          0.\n",
      "  0.          0.         -0.         -0.          0.         -0.\n",
      "  0.          0.15687137 -0.27536408 -0.          0.         -0.\n",
      " -0.         -0.          0.         -0.         -0.         -0.\n",
      " -0.14374506 -0.          0.01808777 -0.         -0.         -0.03909722\n",
      " -0.          0.49437944  0.         -0.          0.00694845  0.\n",
      " -0.08762613 -0.          0.03954046  0.14013731  0.10473867  0.\n",
      "  0.08114674 -0.         -0.         -0.          0.         -0.06873214\n",
      "  0.          0.          0.          0.          0.          0.\n",
      " -0.19359634 -0.          0.14941613 -0.         -0.32933604 -0.08725352\n",
      " -0.          0.         -0.12064495  0.03177555 -0.         -0.\n",
      " -0.22188636 -0.          0.         -0.         -0.0048389   0.3348858\n",
      "  0.08501829  0.         -0.          0.         -0.         -0.15517755\n",
      "  0.          0.          0.05922836  0.         -0.          0.\n",
      "  0.          0.          0.03985812 -0.          0.          0.\n",
      "  0.09227423  0.00682375 -0.          0.06067448 -0.32909069  0.3023789\n",
      " -0.08547522  0.         -0.01271727 -0.        ]\n",
      "(1.7617959538128876, 0.9791393459345696)\n",
      "4.11191979653796\n"
     ]
    }
   ],
   "source": [
    "lr = 0.001\n",
    "lamb = 1\n",
    "(U, s, Vh) = svd(X)\n",
    "beta = Vh[0]\n",
    "np.random.seed(70)\n",
    "beta = np.random.normal(size=d)\n",
    "for i in range(10000):\n",
    "    # print(SCAD_ccv_grad(beta,lamb))\n",
    "    beta = beta - lr * (PCA_grad(Sigma,beta))\n",
    "    beta = prox_l1(beta,lr * lamb)\n",
    "    #beta = beta + 0.001 * np.dot(Sigma, beta)\n",
    "    #beta=beta/np.linalg.norm(beta)\n",
    "print(beta)\n",
    "print(sq_error(beta,beta_star))\n",
    "print(full_scad_obj(Sigma,beta,lamb))"
   ]
  },
  {
   "cell_type": "markdown",
   "metadata": {},
   "source": [
    "# Prox by splitting scad"
   ]
  },
  {
   "cell_type": "code",
   "execution_count": 468,
   "metadata": {},
   "outputs": [
    {
     "name": "stdout",
     "output_type": "stream",
     "text": [
      "[-0.33346489 -0.         -0.99701169 -0.20901014  0.          0.\n",
      "  0.          0.         -0.         -0.          0.         -0.\n",
      "  0.          0.15682869 -0.27532991 -0.          0.         -0.\n",
      " -0.         -0.          0.         -0.         -0.         -0.\n",
      " -0.14378173 -0.          0.01816192 -0.         -0.         -0.03922497\n",
      " -0.          0.49424789  0.         -0.          0.0069703   0.\n",
      " -0.08757461 -0.          0.03965312  0.14023662  0.10470074  0.\n",
      "  0.08119612 -0.         -0.         -0.          0.         -0.06880874\n",
      "  0.          0.          0.          0.          0.          0.\n",
      " -0.19362532 -0.          0.14943068 -0.         -0.32908911 -0.08728581\n",
      " -0.          0.         -0.12073808  0.03186506 -0.         -0.\n",
      " -0.22181599 -0.          0.         -0.         -0.00480704  0.33481593\n",
      "  0.08496825  0.         -0.          0.         -0.         -0.15517858\n",
      "  0.          0.          0.05921364  0.         -0.          0.\n",
      "  0.          0.          0.03992101 -0.          0.          0.\n",
      "  0.09227146  0.00678636 -0.          0.06066517 -0.32917655  0.30245056\n",
      " -0.08554825  0.         -0.01267268 -0.        ]\n",
      "(1.761645509891184, 0.9790448442825515)\n",
      "4.112348135973485\n"
     ]
    }
   ],
   "source": [
    "lr = 0.001\n",
    "lamb = 1\n",
    "(U, s, Vh) = svd(X)\n",
    "beta = Vh[0]\n",
    "np.random.seed(70)\n",
    "beta = np.random.normal(size=d)\n",
    "for i in range(10000):\n",
    "    # print(SCAD_ccv_grad(beta,lamb))\n",
    "    beta = beta - lr * (PCA_grad(Sigma,beta)+SCAD_ccv_grad(beta,lamb,a=3.7))\n",
    "    beta = prox_l1(beta,lr * lamb)\n",
    "    #beta = beta + 0.001 * np.dot(Sigma, beta)\n",
    "    #beta=beta/np.linalg.norm(beta)\n",
    "print(beta)\n",
    "print(sq_error(beta,beta_star))\n",
    "print(full_scad_obj(Sigma,beta,lamb))"
   ]
  },
  {
   "cell_type": "code",
   "execution_count": 335,
   "metadata": {},
   "outputs": [
    {
     "data": {
      "text/plain": [
       "array([ 0.99995717,  0.00850883,  0.        , -0.        ,  0.        ,\n",
       "        0.        , -0.        , -0.        , -0.        ,  0.00364157])"
      ]
     },
     "execution_count": 335,
     "metadata": {},
     "output_type": "execute_result"
    }
   ],
   "source": [
    "l2_project(beta)"
   ]
  },
  {
   "cell_type": "code",
   "execution_count": 362,
   "metadata": {},
   "outputs": [
    {
     "data": {
      "text/plain": [
       "array([-1.55431223e-15, -5.55111512e-17, -1.77692011e-01,  7.24407440e-02,\n",
       "       -2.29567260e-01, -2.89558597e-01,  1.46486986e-01,  4.79587529e-02,\n",
       "        5.68151406e-02,  0.00000000e+00])"
      ]
     },
     "execution_count": 362,
     "metadata": {},
     "output_type": "execute_result"
    }
   ],
   "source": [
    "PCA_grad(Sigma,beta)+SCAD_ccv_grad(beta,lamb,a=3.7)+lamb*np.sign(beta)"
   ]
  },
  {
   "cell_type": "code",
   "execution_count": 366,
   "metadata": {},
   "outputs": [
    {
     "data": {
      "text/plain": [
       "array([-1.09912079e-14, -5.55111512e-17, -1.74526818e-01,  7.09576265e-02,\n",
       "       -2.25288305e-01, -2.84212705e-01,  1.43867883e-01,  4.68470857e-02,\n",
       "        5.61566606e-02,  0.00000000e+00])"
      ]
     },
     "execution_count": 366,
     "metadata": {},
     "output_type": "execute_result"
    }
   ],
   "source": [
    "PCA_grad(Sigma,beta)+lamb*np.sign(beta)"
   ]
  },
  {
   "cell_type": "markdown",
   "metadata": {},
   "source": [
    "# Prox-MCP"
   ]
  },
  {
   "cell_type": "code",
   "execution_count": 435,
   "metadata": {},
   "outputs": [],
   "source": [
    "def MCP_ccv_grad(beta,lamb,a=3.7):\n",
    "    piece1 = piecewise(beta/a,np.abs(beta)<=a*lamb)\n",
    "    piece2 = piecewise(lamb*np.sign(beta),a*lamb<np.abs(beta))\n",
    "    return -(piece1+piece2)"
   ]
  },
  {
   "cell_type": "code",
   "execution_count": 467,
   "metadata": {},
   "outputs": [
    {
     "name": "stdout",
     "output_type": "stream",
     "text": [
      "[-0.00535729 -0.         -0.61348257 -0.15478699  0.         -0.\n",
      "  0.          0.         -0.10489682 -0.          0.         -0.\n",
      " -0.          0.110186   -0.28179378 -0.          0.07998022  0.\n",
      " -0.03674899 -0.         -0.         -0.         -0.         -0.13830803\n",
      " -0.00389978 -0.          0.         -0.1771918  -0.         -0.\n",
      " -0.08442501  0.4784156   0.         -0.          0.          0.\n",
      " -0.         -0.          0.0153236   0.03333093  0.          0.\n",
      "  0.23405114 -0.          0.         -0.          0.         -0.06245266\n",
      "  0.          0.20226264  0.          0.          0.40387902 -0.\n",
      " -0.04598196 -0.          0.03784555 -0.         -0.4877225  -0.02093607\n",
      "  0.          0.         -0.17424607  0.01187938  0.         -0.\n",
      " -0.03523897 -0.         -0.          0.          0.          0.25485659\n",
      "  0.07739468  0.         -0.          0.          0.         -0.40503046\n",
      " -0.         -0.          0.         -0.         -0.          0.\n",
      "  0.08065139 -0.          0.         -0.04719326  0.         -0.12290753\n",
      "  0.04529838  0.         -0.          0.22967647 -0.33482188  0.36431292\n",
      " -0.          0.         -0.         -0.        ]\n",
      "(2.112857896052039, 1.2168315464105264)\n",
      "5.382598261125914\n"
     ]
    }
   ],
   "source": [
    "lr = 0.001\n",
    "lamb = 1\n",
    "(U, s, Vh) = svd(X)\n",
    "beta = Vh[0]\n",
    "np.random.seed(70)\n",
    "beta = np.random.normal(size=d)\n",
    "for i in range(1000):\n",
    "    # print(SCAD_ccv_grad(beta,lamb))\n",
    "    beta = beta - lr * (PCA_grad(Sigma,beta)+MCP_ccv_grad(beta,lamb))\n",
    "    beta = prox(beta,lr * lamb)\n",
    "    #beta = beta + 0.001 * np.dot(Sigma, beta)\n",
    "    #beta=beta/np.linalg.norm(beta)\n",
    "print(beta)\n",
    "print(sq_error(beta,beta_star))\n",
    "print(full_scad_obj(Sigma,beta,lamb))"
   ]
  },
  {
   "cell_type": "code",
   "execution_count": 327,
   "metadata": {},
   "outputs": [
    {
     "data": {
      "text/plain": [
       "array([ 9.99983578e-01,  5.68058341e-03,  0.00000000e+00, -0.00000000e+00,\n",
       "        0.00000000e+00,  0.00000000e+00, -0.00000000e+00, -0.00000000e+00,\n",
       "       -0.00000000e+00,  7.58097185e-04])"
      ]
     },
     "execution_count": 327,
     "metadata": {},
     "output_type": "execute_result"
    }
   ],
   "source": [
    "l2_project(beta)"
   ]
  },
  {
   "cell_type": "markdown",
   "metadata": {},
   "source": [
    "# Misc: Sparse linear regression with scad"
   ]
  },
  {
   "cell_type": "code",
   "execution_count": 367,
   "metadata": {},
   "outputs": [],
   "source": [
    "X = np.random.multivariate_normal(np.zeros(6),np.eye(6),size=500)\n",
    "beta_star = np.array([1,2,3,0,0,0])\n",
    "Y = np.dot(X,beta_star) + np.random.normal(scale=.2,size=500)"
   ]
  },
  {
   "cell_type": "code",
   "execution_count": 368,
   "metadata": {},
   "outputs": [],
   "source": [
    "# LASSO\n",
    "lr = 0.01\n",
    "lamb = 0.25\n",
    "samp_cov = np.dot(X.T,X)\n",
    "xty = np.dot(X.T,Y)\n",
    "beta = np.array([0.1,-0.1,0.2,0.1,0.3,-0.4])\n",
    "for i in range(10000):\n",
    "    beta = beta - lr * 1/500 *(np.dot(samp_cov,beta)-xty)\n",
    "    beta = prox_l1(beta,lr * lamb)"
   ]
  },
  {
   "cell_type": "code",
   "execution_count": 369,
   "metadata": {},
   "outputs": [
    {
     "data": {
      "text/plain": [
       "array([0.74472985, 1.7636387 , 2.7332998 , 0.        , 0.        ,\n",
       "       0.        ])"
      ]
     },
     "execution_count": 369,
     "metadata": {},
     "output_type": "execute_result"
    }
   ],
   "source": [
    "beta"
   ]
  },
  {
   "cell_type": "code",
   "execution_count": 381,
   "metadata": {},
   "outputs": [
    {
     "data": {
      "text/plain": [
       "array([0.72265217, 1.99978766, 2.98029579, 0.        , 0.        ,\n",
       "       0.        ])"
      ]
     },
     "execution_count": 381,
     "metadata": {},
     "output_type": "execute_result"
    }
   ],
   "source": [
    "# Splitting SCAD\n",
    "lr = 0.01\n",
    "lamb = .4\n",
    "samp_cov = np.dot(X.T,X)\n",
    "xty = np.dot(X.T,Y)\n",
    "beta = np.array([0.1,-0.1,0.2,0.1,0.3,-0.4])\n",
    "for i in range(10000):\n",
    "    beta = beta - lr * 1/500 *(np.dot(samp_cov,beta)-xty)-lr*SCAD_ccv_grad(beta,lamb)\n",
    "    beta = prox_l1(beta,lr * lamb)\n",
    "beta"
   ]
  },
  {
   "cell_type": "code",
   "execution_count": 244,
   "metadata": {},
   "outputs": [
    {
     "data": {
      "text/plain": [
       "array([ 3.32622818e-13, -1.10778053e-12, -2.22005747e-12, -1.08399197e-02,\n",
       "        1.99455401e-03,  1.91817508e-02])"
      ]
     },
     "execution_count": 244,
     "metadata": {},
     "output_type": "execute_result"
    }
   ],
   "source": [
    "1/500 *(np.dot(samp_cov,beta)-xty)+lamb*np.sign(beta)+SCAD_ccv_grad(beta,lamb)"
   ]
  },
  {
   "cell_type": "code",
   "execution_count": 245,
   "metadata": {},
   "outputs": [],
   "source": [
    "beta_scad1 = beta"
   ]
  },
  {
   "cell_type": "code",
   "execution_count": 377,
   "metadata": {},
   "outputs": [
    {
     "data": {
      "text/plain": [
       "array([0.98852003, 0.        , 3.08700832, 0.        , 0.        ,\n",
       "       0.        ])"
      ]
     },
     "execution_count": 377,
     "metadata": {},
     "output_type": "execute_result"
    }
   ],
   "source": [
    "# Prox gradient with scad, this actually works for debiasing (but check the scad penalty?)\n",
    "lr = 0.01\n",
    "lamb = 3\n",
    "samp_cov = np.dot(X.T,X)\n",
    "xty = np.dot(X.T,Y)\n",
    "beta = np.array([0.1,-0.1,0.2,0.1,0.3,-0.4])\n",
    "for i in range(10000):\n",
    "    beta = beta - lr * 1/500 *(np.dot(samp_cov,beta)-xty)\n",
    "    beta = scad(beta,lr * lamb)\n",
    "beta"
   ]
  },
  {
   "cell_type": "code",
   "execution_count": 247,
   "metadata": {},
   "outputs": [
    {
     "data": {
      "text/plain": [
       "array([ 3.15775310e-01, -2.20379270e-14, -3.63598041e-14, -7.60001987e-03,\n",
       "        5.00000000e-01, -7.88898215e-03])"
      ]
     },
     "execution_count": 247,
     "metadata": {},
     "output_type": "execute_result"
    }
   ],
   "source": [
    "1/500 *(np.dot(samp_cov,beta)-xty)+lamb*np.sign(beta)+SCAD_ccv_grad(beta,lamb)"
   ]
  }
 ],
 "metadata": {
  "kernelspec": {
   "display_name": "Python 3",
   "language": "python",
   "name": "python3"
  },
  "language_info": {
   "codemirror_mode": {
    "name": "ipython",
    "version": 3
   },
   "file_extension": ".py",
   "mimetype": "text/x-python",
   "name": "python",
   "nbconvert_exporter": "python",
   "pygments_lexer": "ipython3",
   "version": "3.5.2"
  }
 },
 "nbformat": 4,
 "nbformat_minor": 2
}
