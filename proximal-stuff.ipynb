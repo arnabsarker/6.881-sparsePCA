{
 "cells": [
  {
   "cell_type": "code",
   "execution_count": 1,
   "metadata": {},
   "outputs": [],
   "source": [
    "%matplotlib inline\n",
    "import numpy as np\n",
    "import time\n",
    "from sklearn.decomposition import PCA, SparsePCA\n",
    "from scipy.linalg import svd\n",
    "import matplotlib.pyplot as plt"
   ]
  },
  {
   "cell_type": "markdown",
   "metadata": {},
   "source": [
    "# Useful functions"
   ]
  },
  {
   "cell_type": "code",
   "execution_count": 2,
   "metadata": {},
   "outputs": [],
   "source": [
    "# Helper to define piecewise functions\n",
    "def piecewise(val,cond):\n",
    "    return val * cond\n",
    "\n",
    "# SCAD prox function from Shen's paper. This corresponds exactly to prox of lamb*scad in the conventional sense\n",
    "def scad(vec, lam, a=3.7):\n",
    "    return np.multiply(np.multiply(vec - lam * np.sign(vec), np.abs(vec) > lam), np.abs(vec) < (2*lam)) + \\\n",
    "            np.multiply(vec, np.abs(vec) > a * lam) + \\\n",
    "            np.multiply(np.multiply(((a - 1) * vec - np.sign(vec) * lam * a )/ (a - 2), \\\n",
    "                                    np.abs(vec) > (2*lam)), np.abs(vec) < (a*lam))\n",
    "\n",
    "\n",
    "# Conventional scad objective function\n",
    "def scad_obj(vec, lamb, a=3.7):\n",
    "    piece1 = piecewise(lamb*np.abs(vec),np.abs(vec)<=lamb)\n",
    "    piece2 = piecewise(1/(2*(a-1))*(2*a*lamb*np.abs(vec)-vec**2-lamb**2),np.logical_and(lamb<np.abs(vec),np.abs(vec)<=a*lamb))\n",
    "    piece3 = piecewise(lamb**2*(a+1)/2,a*lamb<np.abs(vec))\n",
    "    return np.sum(piece1+piece2+piece3)\n",
    "\n",
    "# PCA problem\n",
    "def PCA_obj(Sigma,beta):\n",
    "    return 1/2*np.linalg.norm(Sigma-np.outer(beta,beta),ord=\"fro\")**2\n",
    "\n",
    "# L1 regularization\n",
    "def l1_obj(beta,lamb):\n",
    "    return lamb*np.sum(np.abs(beta))\n",
    "\n",
    "# This is the objective function for SCAD regularized PCA\n",
    "def full_scad_obj(Sigma,beta,lamb,a=3.7):\n",
    "    return PCA_obj(Sigma,beta)+scad_obj(beta,lamb,a)\n",
    "\n",
    "# Gradient of pca objective 1/2*||Sigma-beta beta^T||_F^2\n",
    "def PCA_grad(Sigma,beta):\n",
    "    return 2*(-np.dot(Sigma,beta)+np.sum(np.square(beta))*beta)\n",
    "\n",
    "# SCAD = L1 - cvx\n",
    "# This is the gradient of the -cvx part, so scad grad = l1 gradient + SCAD_ccv_grad\n",
    "def SCAD_ccv_grad(beta,lamb,a=3.7):\n",
    "    piece1 = piecewise(0,np.abs(beta)<=lamb)\n",
    "    piece2 = piecewise(1/(a-1)*(beta-lamb*np.sign(beta)),np.logical_and(lamb<np.abs(beta),np.abs(beta)<=a*lamb))\n",
    "    piece3 = piecewise(lamb*np.sign(beta),np.abs(beta)>a*lamb)\n",
    "    return -(piece1+piece2+piece3)\n",
    "\n",
    "# Proximal operator for L1 (soft thresholding)\n",
    "def prox_l1(v,c):\n",
    "    return np.sign(v) * np.maximum(np.abs(v)-c,0)\n",
    "\n",
    "### Functions for attempted implementation of General Iterative Shrinkage and Thresholding ###\n",
    "def bb_init(grad_fun,current,previous):\n",
    "    x = current-previous\n",
    "    y = grad_fun(current) - grad_fun(previous)\n",
    "    return np.dot(x,y)/np.dot(x,x)\n",
    "\n",
    "def line_search_criterion(f,current,previous,t):\n",
    "    return f(current) <= f(previous) - t/4*np.linalg.norm(current-previous)**2\n",
    "\n",
    "###\n",
    "\n",
    "# Soft threshold and project onto the r-ball\n",
    "def prox_l1_project(v,c,r):\n",
    "    x = prox_l1(v,c)\n",
    "    norm = np.linalg.norm(x)\n",
    "    if norm==0:\n",
    "        return x\n",
    "    return x/(np.maximum(1,norm/r))\n",
    "\n",
    "# Project to unit ball\n",
    "def l2_project(beta):\n",
    "    if np.linalg.norm(beta) > 0:\n",
    "        return beta/np.linalg.norm(beta)\n",
    "    else:\n",
    "        return beta\n",
    "\n",
    "# Squared error between both beta1 and beta2 and the normalized versions\n",
    "def sq_error(beta1,beta2):\n",
    "    return np.linalg.norm(beta1-beta2), np.linalg.norm(l2_project(beta1)-l2_project(beta2))"
   ]
  },
  {
   "cell_type": "markdown",
   "metadata": {},
   "source": [
    "# Sanity check on scad prox function"
   ]
  },
  {
   "cell_type": "code",
   "execution_count": 3,
   "metadata": {},
   "outputs": [],
   "source": [
    "test = np.random.normal(size=20)\n",
    "lamb=0.5"
   ]
  },
  {
   "cell_type": "code",
   "execution_count": 4,
   "metadata": {},
   "outputs": [],
   "source": [
    "prox1=scad(test,lamb)"
   ]
  },
  {
   "cell_type": "code",
   "execution_count": 5,
   "metadata": {},
   "outputs": [
    {
     "data": {
      "text/plain": [
       "5.207593030131094"
      ]
     },
     "execution_count": 5,
     "metadata": {},
     "output_type": "execute_result"
    }
   ],
   "source": [
    "# Objective in prox function definition\n",
    "1/2*np.linalg.norm(prox1-test)**2+scad_obj(prox1,lamb)"
   ]
  },
  {
   "cell_type": "code",
   "execution_count": 6,
   "metadata": {},
   "outputs": [],
   "source": [
    "# Confirm that scad(test,lamb) is the optimum\n",
    "u = np.random.normal(size=prox1.shape[0])\n",
    "lr=0.01\n",
    "for _ in range(10000):\n",
    "    u = u - lr*(u-test+SCAD_ccv_grad(u,lamb))\n",
    "    u = prox_l1(u,lamb*lr)"
   ]
  },
  {
   "cell_type": "code",
   "execution_count": 7,
   "metadata": {},
   "outputs": [
    {
     "data": {
      "text/plain": [
       "2.0899995089446637e-14"
      ]
     },
     "execution_count": 7,
     "metadata": {},
     "output_type": "execute_result"
    }
   ],
   "source": [
    "np.linalg.norm(prox1-u)"
   ]
  },
  {
   "cell_type": "code",
   "execution_count": 8,
   "metadata": {},
   "outputs": [
    {
     "data": {
      "text/plain": [
       "5.207593030131093"
      ]
     },
     "execution_count": 8,
     "metadata": {},
     "output_type": "execute_result"
    }
   ],
   "source": [
    "1/2*np.linalg.norm(u-test)**2+scad_obj(u,lamb)"
   ]
  },
  {
   "cell_type": "markdown",
   "metadata": {},
   "source": [
    "# Spiked covariance"
   ]
  },
  {
   "cell_type": "code",
   "execution_count": 9,
   "metadata": {},
   "outputs": [],
   "source": [
    "# Generates n samples from spiked covariance model of dimension d, spike at u with signal strength gamma\n",
    "def spiked_cov(n,d,u,gamma=1,return_cov=False):\n",
    "    u = u / np.linalg.norm(u)\n",
    "    cov = np.eye(d) + gamma * np.outer(u,u)\n",
    "    X = np.random.multivariate_normal(np.zeros(d),cov,size=n)\n",
    "    if return_cov:\n",
    "        return X, cov\n",
    "    else:\n",
    "        return X\n",
    "\n",
    "# First s entries are 1\n",
    "def equal_spike(n,d,s,gamma=1,return_cov=False):\n",
    "    u = np.zeros(d)\n",
    "    u[:s] = 1\n",
    "    return spiked_cov(n,d,u,gamma,return_cov)\n",
    "\n",
    "# First entry is alpha, next s-1 entries are 1\n",
    "def heavy_spike(n,d,s,gamma=1,alpha=10,return_cov=False):\n",
    "    u = np.zeros(d)\n",
    "    u[0] = alpha\n",
    "    u[1:s] = 1\n",
    "    return spiked_cov(n,d,u,gamma,return_cov)"
   ]
  },
  {
   "cell_type": "code",
   "execution_count": 22,
   "metadata": {},
   "outputs": [],
   "source": [
    "n = 100\n",
    "d = 100\n",
    "s = 10\n",
    "np.random.seed(42)\n",
    "X, pop_cov = heavy_spike(n,d,s,gamma=5,return_cov=True)\n",
    "Sigma = 1/n*np.dot(X.T,X)"
   ]
  },
  {
   "cell_type": "code",
   "execution_count": 35,
   "metadata": {},
   "outputs": [
    {
     "data": {
      "text/plain": [
       "array([ 2.41627981e+00,  2.06519565e-01,  1.75093779e-01,  2.61637273e-01,\n",
       "        1.77463012e-01, -4.72506367e-02,  1.96394638e-01,  1.10625715e-01,\n",
       "        2.35234970e-01,  1.46146266e-01,  1.37219630e-01, -3.05346032e-02,\n",
       "        5.67655758e-02, -2.26914861e-01, -7.52907805e-02,  4.00911103e-02,\n",
       "       -8.96410572e-02,  1.12106834e-02, -1.26599486e-01, -3.36469535e-01,\n",
       "       -2.24135471e-02, -1.00972010e-01, -1.18995106e-04, -1.30202541e-01,\n",
       "       -3.28144356e-01,  1.67735651e-01, -4.46136110e-02,  8.45234818e-02,\n",
       "        1.01612748e-01, -3.28839425e-03,  1.77498704e-01, -1.25634518e-02,\n",
       "       -5.57485953e-02, -6.95376759e-02,  1.90665376e-01,  7.01341546e-02,\n",
       "        7.60332115e-02, -7.87641397e-02, -1.28248141e-01, -7.63612956e-02,\n",
       "        2.36822896e-02, -4.09050189e-02,  2.68099056e-02,  2.14701429e-02,\n",
       "        6.54299381e-02,  1.60711639e-02,  8.27470552e-02, -6.77376773e-02,\n",
       "        2.41859362e-02, -2.95405163e-01,  2.92010243e-02,  7.17175693e-02,\n",
       "       -6.51000818e-02,  1.15527817e-01,  4.46791294e-03,  5.00782582e-02,\n",
       "       -1.10557309e-01,  1.05854084e-01, -1.02266120e-01, -8.45858876e-02,\n",
       "       -5.19203264e-02,  4.63723728e-02,  1.05288625e-01,  1.05297647e-02,\n",
       "       -1.86161578e-01, -1.96614727e-01, -6.61321746e-02,  3.39655964e-02,\n",
       "        2.03831135e-01,  7.03952597e-02, -1.36594073e-01, -2.09198298e-01,\n",
       "        4.42508177e-02,  1.61403782e-01, -2.46162947e-02, -1.49044213e-01,\n",
       "        1.23548173e-01, -9.82575862e-02,  1.96939640e-01, -8.54224975e-02,\n",
       "       -1.35062081e-01, -2.04697435e-02,  2.13715886e-01,  3.18537180e-01,\n",
       "        2.65353797e-01,  1.73466837e-01,  9.62027085e-02, -1.60530466e-01,\n",
       "       -6.47081426e-02,  2.10156951e-02, -2.28868204e-01, -1.32562393e-01,\n",
       "        2.25035201e-01, -9.86555109e-02,  9.48156121e-03, -3.13927739e-02,\n",
       "       -1.44762292e-01, -4.36147970e-02,  3.62694619e-01,  6.88204519e-03])"
      ]
     },
     "execution_count": 35,
     "metadata": {},
     "output_type": "execute_result"
    }
   ],
   "source": [
    "# Leading eigenvector of sample covariance times sqrt eigenvalue\n",
    "sample_vals, sample_vecs = np.linalg.eigh(Sigma)\n",
    "sample_vecs[:,d-1]*np.sqrt(sample_vals[d-1])"
   ]
  },
  {
   "cell_type": "code",
   "execution_count": 36,
   "metadata": {},
   "outputs": [
    {
     "data": {
      "text/plain": [
       "array([2.34618566, 0.23461857, 0.23461857, 0.23461857, 0.23461857,\n",
       "       0.23461857, 0.23461857, 0.23461857, 0.23461857, 0.23461857,\n",
       "       0.        , 0.        , 0.        , 0.        , 0.        ,\n",
       "       0.        , 0.        , 0.        , 0.        , 0.        ,\n",
       "       0.        , 0.        , 0.        , 0.        , 0.        ,\n",
       "       0.        , 0.        , 0.        , 0.        , 0.        ,\n",
       "       0.        , 0.        , 0.        , 0.        , 0.        ,\n",
       "       0.        , 0.        , 0.        , 0.        , 0.        ,\n",
       "       0.        , 0.        , 0.        , 0.        , 0.        ,\n",
       "       0.        , 0.        , 0.        , 0.        , 0.        ,\n",
       "       0.        , 0.        , 0.        , 0.        , 0.        ,\n",
       "       0.        , 0.        , 0.        , 0.        , 0.        ,\n",
       "       0.        , 0.        , 0.        , 0.        , 0.        ,\n",
       "       0.        , 0.        , 0.        , 0.        , 0.        ,\n",
       "       0.        , 0.        , 0.        , 0.        , 0.        ,\n",
       "       0.        , 0.        , 0.        , 0.        , 0.        ,\n",
       "       0.        , 0.        , 0.        , 0.        , 0.        ,\n",
       "       0.        , 0.        , 0.        , 0.        , 0.        ,\n",
       "       0.        , 0.        , 0.        , 0.        , 0.        ,\n",
       "       0.        , 0.        , 0.        , 0.        , 0.        ])"
      ]
     },
     "execution_count": 36,
     "metadata": {},
     "output_type": "execute_result"
    }
   ],
   "source": [
    "pop_vals, pop_vecs = np.linalg.eigh(pop_cov)\n",
    "pop_vecs[:,d-1]*np.sqrt(pop_vals[d-1])"
   ]
  },
  {
   "cell_type": "code",
   "execution_count": 37,
   "metadata": {},
   "outputs": [],
   "source": [
    "beta_star = pop_vecs[:,d-1]*np.sqrt(pop_vals[d-1])\n",
    "beta_star_normalized = pop_vecs[:,d-1]"
   ]
  },
  {
   "cell_type": "code",
   "execution_count": 38,
   "metadata": {},
   "outputs": [
    {
     "data": {
      "text/plain": [
       "array([[-9.69543073e-01, -4.02086514e-02, -2.23745650e-02,\n",
       "        -5.49887574e-02, -2.68242859e-02,  0.00000000e+00,\n",
       "        -2.95379724e-02, -0.00000000e+00, -3.94873997e-02,\n",
       "        -2.22746832e-02, -3.62691287e-04,  0.00000000e+00,\n",
       "        -0.00000000e+00,  4.49685616e-02,  0.00000000e+00,\n",
       "        -0.00000000e+00,  0.00000000e+00, -0.00000000e+00,\n",
       "         8.48155715e-03,  8.72087822e-02, -0.00000000e+00,\n",
       "         0.00000000e+00,  0.00000000e+00,  0.00000000e+00,\n",
       "         7.26615537e-02, -2.64781501e-02,  0.00000000e+00,\n",
       "        -0.00000000e+00, -0.00000000e+00, -0.00000000e+00,\n",
       "        -1.34412099e-02,  0.00000000e+00,  0.00000000e+00,\n",
       "         0.00000000e+00, -2.80593259e-02, -0.00000000e+00,\n",
       "        -0.00000000e+00,  0.00000000e+00,  0.00000000e+00,\n",
       "         0.00000000e+00, -0.00000000e+00,  0.00000000e+00,\n",
       "        -0.00000000e+00,  0.00000000e+00, -0.00000000e+00,\n",
       "         0.00000000e+00, -0.00000000e+00,  0.00000000e+00,\n",
       "        -0.00000000e+00,  6.55857214e-02, -0.00000000e+00,\n",
       "        -0.00000000e+00,  0.00000000e+00, -0.00000000e+00,\n",
       "        -0.00000000e+00, -0.00000000e+00,  7.80689971e-04,\n",
       "        -2.45795949e-03,  0.00000000e+00,  0.00000000e+00,\n",
       "         0.00000000e+00, -0.00000000e+00, -0.00000000e+00,\n",
       "        -0.00000000e+00,  2.62198054e-02,  1.67447110e-02,\n",
       "         0.00000000e+00, -0.00000000e+00, -2.58611425e-02,\n",
       "        -0.00000000e+00,  2.89507231e-03,  4.56078970e-02,\n",
       "        -0.00000000e+00, -1.13161023e-02,  0.00000000e+00,\n",
       "         6.55877335e-03, -1.07847255e-03,  0.00000000e+00,\n",
       "        -2.04710801e-02,  0.00000000e+00,  1.51087512e-02,\n",
       "         0.00000000e+00, -4.31170938e-02, -7.88098661e-02,\n",
       "        -6.15447815e-02, -2.55351649e-02, -0.00000000e+00,\n",
       "         9.83352601e-03,  0.00000000e+00, -0.00000000e+00,\n",
       "         5.79842962e-02,  0.00000000e+00, -3.74044876e-02,\n",
       "         0.00000000e+00,  0.00000000e+00,  0.00000000e+00,\n",
       "         3.21776198e-03,  0.00000000e+00, -9.12042563e-02,\n",
       "        -0.00000000e+00]])"
      ]
     },
     "execution_count": 38,
     "metadata": {},
     "output_type": "execute_result"
    }
   ],
   "source": [
    "start = time.time()\n",
    "spca = SparsePCA(n_components=1, method='cd',normalize_components=True)\n",
    "SPCAResult = spca.fit(X)\n",
    "spca_time_result = time.time() - start\n",
    "SPCAResult.components_"
   ]
  },
  {
   "cell_type": "markdown",
   "metadata": {},
   "source": [
    "# SCAD subgradient descent"
   ]
  },
  {
   "cell_type": "code",
   "execution_count": 118,
   "metadata": {},
   "outputs": [],
   "source": [
    "# Common learning rate and lambda\n",
    "n_iter = 5000\n",
    "lr = 0.0002\n",
    "lamb = 0.5"
   ]
  },
  {
   "cell_type": "code",
   "execution_count": 119,
   "metadata": {},
   "outputs": [
    {
     "name": "stdout",
     "output_type": "stream",
     "text": [
      "102.94869965447958\n"
     ]
    }
   ],
   "source": [
    "best_obj = np.inf\n",
    "objs_gd = np.zeros(n_iter)\n",
    "for _ in range(1):\n",
    "    (U, s, Vh) = svd(X)\n",
    "    # beta = Vh[0]\n",
    "    np.random.seed(2)\n",
    "    beta=5*np.random.normal(size=d)\n",
    "    for i in range(n_iter):\n",
    "        # Funny-looking learning rate schedule\n",
    "        # * np.log(i+2)/np.sqrt(2*(i+1))\n",
    "        beta = beta - lr *(PCA_grad(Sigma,beta)+SCAD_ccv_grad(beta,lamb)+lamb*np.sign(beta))\n",
    "        objs_gd[i] = full_scad_obj(Sigma,beta,lamb)\n",
    "    best_obj = np.minimum(best_obj,full_scad_obj(Sigma,beta,lamb))\n",
    "print(best_obj)"
   ]
  },
  {
   "cell_type": "code",
   "execution_count": 120,
   "metadata": {},
   "outputs": [
    {
     "data": {
      "image/png": "[encoded data removed]",
      "text/plain": [
       "<Figure size 432x288 with 1 Axes>"
      ]
     },
     "metadata": {
      "needs_background": "light"
     },
     "output_type": "display_data"
    }
   ],
   "source": [
    "plt.plot(objs_gd)\n",
    "plt.show()"
   ]
  },
  {
   "cell_type": "code",
   "execution_count": 121,
   "metadata": {},
   "outputs": [
    {
     "data": {
      "text/plain": [
       "array([ 2.49322170e+00,  1.73811889e-01,  1.37478466e-01,  2.23738924e-01,\n",
       "        1.36014515e-01, -2.11537569e-03,  1.57201040e-01,  6.60140139e-02,\n",
       "        1.93049584e-01,  1.17289363e-01,  8.49480299e-02, -2.56904634e-03,\n",
       "        1.32267712e-02, -1.87688422e-01, -3.49515935e-02,  1.56757894e-02,\n",
       "       -4.44412997e-02,  1.02128575e-05, -9.61337295e-02, -2.94921369e-01,\n",
       "        3.57137034e-05, -5.95396461e-02,  4.73998574e-05, -7.74263954e-02,\n",
       "       -2.81488008e-01,  1.36712313e-01, -5.39377639e-05,  6.24018942e-02,\n",
       "        5.85654825e-02, -3.61682746e-06,  1.25964242e-01, -1.84237399e-05,\n",
       "       -1.18283330e-02, -1.56287489e-02,  1.55675063e-01,  1.52517227e-02,\n",
       "        2.55172936e-02, -3.11527099e-02, -8.61658381e-02, -2.60034205e-02,\n",
       "        1.36026502e-04, -9.25873439e-06,  2.63171798e-03, -1.07541235e-06,\n",
       "        3.28620289e-02,  1.27336695e-05,  4.08156391e-02, -1.66780358e-02,\n",
       "        8.41752270e-04, -2.50268029e-01,  1.73570816e-04,  2.48771047e-02,\n",
       "       -2.71363434e-02,  6.93074005e-02, -2.51773685e-05,  2.31408268e-02,\n",
       "       -7.69110723e-02,  6.85940005e-02, -6.03275299e-02, -4.01262710e-02,\n",
       "       -6.99982023e-04,  4.05127184e-03,  6.31974584e-02, -4.73198539e-05,\n",
       "       -1.48383390e-01, -1.34032597e-01, -2.37677036e-02,  8.87499944e-05,\n",
       "        1.56794901e-01,  2.13242825e-02, -9.19218705e-02, -1.76781438e-01,\n",
       "        7.77090158e-03,  1.15059128e-01, -9.88303264e-06, -9.90005154e-02,\n",
       "        8.80618659e-02, -5.34578936e-02,  1.48363761e-01, -4.04529644e-02,\n",
       "       -1.02982686e-01, -2.00977338e-05,  1.78120931e-01,  2.72158615e-01,\n",
       "        2.37159477e-01,  1.39476462e-01,  4.97367640e-02, -1.08864345e-01,\n",
       "       -1.78221477e-02,  9.45541261e-05, -2.06408055e-01, -7.99117375e-02,\n",
       "        1.74824024e-01, -6.42382270e-02,  2.43748128e-05, -1.25596723e-04,\n",
       "       -9.41393474e-02, -1.69854082e-02,  3.17840424e-01,  5.81364773e-07])"
      ]
     },
     "execution_count": 121,
     "metadata": {},
     "output_type": "execute_result"
    }
   ],
   "source": [
    "beta"
   ]
  },
  {
   "cell_type": "markdown",
   "metadata": {},
   "source": [
    "# Naive prox with scad\n",
    "this is worse than the others"
   ]
  },
  {
   "cell_type": "code",
   "execution_count": 122,
   "metadata": {},
   "outputs": [
    {
     "name": "stdout",
     "output_type": "stream",
     "text": [
      "103.75512907978298\n"
     ]
    }
   ],
   "source": [
    "best_obj = np.inf\n",
    "objs_scad = np.zeros(n_iter)\n",
    "for _ in range(1):\n",
    "    (U, s, Vh) = svd(X)\n",
    "    #beta = Vh[0]\n",
    "    np.random.seed(2)\n",
    "    beta = 5*np.random.normal(size=d)\n",
    "    for i in range(n_iter):\n",
    "        # print(SCAD_ccv_grad(beta,lamb))\n",
    "        beta = beta - lr * PCA_grad(Sigma,beta)\n",
    "        beta = scad(beta,lr * lamb)\n",
    "        objs_scad[i] = full_scad_obj(Sigma,beta,lamb)\n",
    "    best_obj = np.minimum(best_obj,full_scad_obj(Sigma,beta,lamb))\n",
    "print(best_obj)"
   ]
  },
  {
   "cell_type": "code",
   "execution_count": 123,
   "metadata": {},
   "outputs": [
    {
     "data": {
      "image/png": "[encoded data removed]",
      "text/plain": [
       "<Figure size 432x288 with 1 Axes>"
      ]
     },
     "metadata": {
      "needs_background": "light"
     },
     "output_type": "display_data"
    }
   ],
   "source": [
    "plt.plot(objs_scad)\n",
    "plt.show()"
   ]
  },
  {
   "cell_type": "code",
   "execution_count": 124,
   "metadata": {},
   "outputs": [
    {
     "data": {
      "text/plain": [
       "array([ 2.41742103e+00,  2.07309242e-01,  1.75071824e-01,  2.61772089e-01,\n",
       "        1.79489575e-01, -3.99929011e-02,  1.95615054e-01,  1.11077142e-01,\n",
       "        2.37272960e-01,  1.47250021e-01,  1.36885785e-01, -3.28028045e-02,\n",
       "        6.31266415e-02, -2.27498551e-01, -7.40429542e-02,  4.49964379e-02,\n",
       "       -9.23830236e-02,  0.00000000e+00, -1.29549355e-01, -3.37573641e-01,\n",
       "       -2.34199087e-02, -9.75280943e-02, -1.91945866e-03, -1.27177715e-01,\n",
       "       -3.29079613e-01,  1.69216743e-01, -4.36911998e-02,  8.81704370e-02,\n",
       "        1.02072049e-01,  0.00000000e+00,  1.80037329e-01, -1.75088914e-02,\n",
       "       -5.05241507e-02, -6.68610366e-02,  1.91609328e-01,  7.16593141e-02,\n",
       "        7.11299419e-02, -7.96065189e-02, -1.32562513e-01, -7.65807226e-02,\n",
       "        2.14658844e-02, -4.33044305e-02,  2.50870895e-02,  0.00000000e+00,\n",
       "        6.55281942e-02,  0.00000000e+00,  7.80700128e-02, -6.37157560e-02,\n",
       "        2.71905006e-02, -2.92411187e-01,  3.12081499e-02,  6.97234368e-02,\n",
       "       -6.03738903e-02,  1.15551081e-01,  5.63770463e-03,  4.54411785e-02,\n",
       "       -1.11838082e-01,  1.06780950e-01, -1.00735413e-01, -8.19765303e-02,\n",
       "       -5.07718783e-02,  4.68387059e-02,  1.05198310e-01,  0.00000000e+00,\n",
       "       -1.87670102e-01, -1.94142678e-01, -6.70213307e-02,  3.60795467e-02,\n",
       "        2.01372403e-01,  6.86202549e-02, -1.32036800e-01, -2.09514139e-01,\n",
       "        4.42366465e-02,  1.55481367e-01,  0.00000000e+00, -1.47715243e-01,\n",
       "        1.23326073e-01, -9.86207017e-02,  1.95393184e-01, -8.44882821e-02,\n",
       "       -1.34509003e-01,  0.00000000e+00,  2.13134573e-01,  3.13792174e-01,\n",
       "        2.70118480e-01,  1.75159469e-01,  9.73963704e-02, -1.58344055e-01,\n",
       "       -6.38729656e-02,  0.00000000e+00, -2.28819746e-01, -1.34507410e-01,\n",
       "        2.23109778e-01, -9.99187464e-02,  0.00000000e+00,  0.00000000e+00,\n",
       "       -1.40478110e-01, -4.50026729e-02,  3.62615872e-01,  7.71663862e-03])"
      ]
     },
     "execution_count": 124,
     "metadata": {},
     "output_type": "execute_result"
    }
   ],
   "source": [
    "beta"
   ]
  },
  {
   "cell_type": "code",
   "execution_count": 686,
   "metadata": {},
   "outputs": [
    {
     "name": "stdout",
     "output_type": "stream",
     "text": [
      "NAN bb init\n",
      "5.403546030243136\n"
     ]
    }
   ],
   "source": [
    "# Barzilai-Borwein init attempt, but doesn't currently work\n",
    "best_obj = np.inf\n",
    "for _ in range(1):\n",
    "    (U, s, Vh) = svd(X)\n",
    "    beta = Vh[0]\n",
    "    #np.random.seed(2)\n",
    "    #beta=5*np.random.normal(size=d)\n",
    "    previous = beta\n",
    "    beta = beta - lr * PCA_grad(Sigma,beta)\n",
    "    beta = scad(beta,lr * lamb)\n",
    "    for i in range(10000):\n",
    "        t = bb_init(PCA_grad_fn, beta, previous)\n",
    "        if np.isnan(t) or t==0:\n",
    "            print(\"NAN bb init\")\n",
    "            break\n",
    "        previous=beta\n",
    "        beta = beta - lr * PCA_grad(Sigma,beta)\n",
    "        beta = scad(beta,lr * lamb)\n",
    "        #beta = beta + 0.001 * np.dot(Sigma, beta)\n",
    "        #beta=beta/np.linalg.norm(beta)\n",
    "    best_obj = np.minimum(best_obj,full_scad_obj(Sigma,beta,lamb))\n",
    "print(best_obj)"
   ]
  },
  {
   "cell_type": "markdown",
   "metadata": {},
   "source": [
    "# Lasso via prox"
   ]
  },
  {
   "cell_type": "code",
   "execution_count": 125,
   "metadata": {},
   "outputs": [
    {
     "name": "stdout",
     "output_type": "stream",
     "text": [
      "102.95275120429623\n"
     ]
    }
   ],
   "source": [
    "best_obj = np.inf\n",
    "for _ in range(1):\n",
    "    (U, s, Vh) = svd(X)\n",
    "    #beta = Vh[0]\n",
    "    np.random.seed(2)\n",
    "    beta = 5*np.random.normal(size=d)\n",
    "    for i in range(n_iter):\n",
    "        beta = beta - lr* (PCA_grad(Sigma,beta))\n",
    "        beta = prox_l1(beta,lr * lamb)\n",
    "    best_obj = np.minimum(best_obj,full_scad_obj(Sigma,beta,lamb))\n",
    "print(best_obj)\n",
    "# print(beta)\n",
    "# print(sq_error(beta,beta_star))\n",
    "# print(full_scad_obj(Sigma,beta,lamb))"
   ]
  },
  {
   "cell_type": "code",
   "execution_count": 126,
   "metadata": {},
   "outputs": [
    {
     "data": {
      "text/plain": [
       "array([ 2.47346613e+00,  1.74976201e-01,  1.38626713e-01,  2.25532016e-01,\n",
       "        1.35595483e-01, -1.70160412e-03,  1.57705954e-01,  6.58529423e-02,\n",
       "        1.95528999e-01,  1.17450474e-01,  8.46711901e-02, -3.77099258e-03,\n",
       "        1.30421275e-02, -1.88564802e-01, -3.50007453e-02,  1.67835299e-02,\n",
       "       -4.47239428e-02,  0.00000000e+00, -9.67064491e-02, -2.96675332e-01,\n",
       "       -0.00000000e+00, -5.99099701e-02, -0.00000000e+00, -7.76082100e-02,\n",
       "       -2.83590860e-01,  1.37731368e-01, -0.00000000e+00,  6.26015481e-02,\n",
       "        5.85543889e-02, -0.00000000e+00,  1.25902810e-01, -0.00000000e+00,\n",
       "       -1.08383942e-02, -1.51196387e-02,  1.56334519e-01,  1.49634037e-02,\n",
       "        2.51460432e-02, -3.11897235e-02, -8.72860423e-02, -2.58484430e-02,\n",
       "        0.00000000e+00, -0.00000000e+00,  2.71383353e-03,  0.00000000e+00,\n",
       "        3.26977482e-02,  0.00000000e+00,  3.99888373e-02, -1.64271160e-02,\n",
       "        4.44057061e-04, -2.51470270e-01,  0.00000000e+00,  2.45770289e-02,\n",
       "       -2.65659762e-02,  6.97792025e-02,  0.00000000e+00,  2.24769980e-02,\n",
       "       -7.71376696e-02,  6.79327884e-02, -6.03915688e-02, -4.01551917e-02,\n",
       "       -5.89790157e-04,  3.69293578e-03,  6.32027860e-02,  0.00000000e+00,\n",
       "       -1.48923483e-01, -1.33663476e-01, -2.38727291e-02,  0.00000000e+00,\n",
       "        1.57779000e-01,  2.11974772e-02, -9.14166791e-02, -1.78018745e-01,\n",
       "        7.11797852e-03,  1.15052097e-01, -0.00000000e+00, -9.87085039e-02,\n",
       "        8.87808869e-02, -5.37005635e-02,  1.49741652e-01, -4.08337046e-02,\n",
       "       -1.02830068e-01, -0.00000000e+00,  1.78919803e-01,  2.73211627e-01,\n",
       "        2.39873721e-01,  1.39965405e-01,  4.98598286e-02, -1.09045447e-01,\n",
       "       -1.71204529e-02,  0.00000000e+00, -2.07812745e-01, -8.13471157e-02,\n",
       "        1.75141914e-01, -6.45817207e-02,  0.00000000e+00, -0.00000000e+00,\n",
       "       -9.41124382e-02, -1.67999416e-02,  3.19927505e-01,  0.00000000e+00])"
      ]
     },
     "execution_count": 126,
     "metadata": {},
     "output_type": "execute_result"
    }
   ],
   "source": [
    "beta"
   ]
  },
  {
   "cell_type": "markdown",
   "metadata": {},
   "source": [
    "# Prox by splitting scad"
   ]
  },
  {
   "cell_type": "code",
   "execution_count": 127,
   "metadata": {},
   "outputs": [
    {
     "name": "stdout",
     "output_type": "stream",
     "text": [
      "102.94914668651465\n"
     ]
    }
   ],
   "source": [
    "best_obj = np.inf\n",
    "objs_split = np.zeros(n_iter)\n",
    "for _ in range(1):\n",
    "    (U, s, Vh) = svd(X)\n",
    "    #beta = Vh[0]\n",
    "    np.random.seed(2)\n",
    "    beta = 5*np.random.normal(size=d)\n",
    "    for i in range(n_iter):\n",
    "        # print(SCAD_ccv_grad(beta,lamb))\n",
    "        beta = beta - lr * (PCA_grad(Sigma,beta)+SCAD_ccv_grad(beta,lamb,a=3.7))\n",
    "        beta = prox_l1(beta,lr * lamb)\n",
    "        objs_split[i] = full_scad_obj(Sigma,beta,lamb)\n",
    "    best_obj = np.minimum(best_obj,full_scad_obj(Sigma,beta,lamb))\n",
    "print(best_obj)\n",
    "# print(beta)\n",
    "# print(sq_error(beta,beta_star))\n",
    "# print(full_scad_obj(Sigma,beta,lamb))"
   ]
  },
  {
   "cell_type": "code",
   "execution_count": 128,
   "metadata": {},
   "outputs": [
    {
     "data": {
      "image/png": "[encoded data removed]",
      "text/plain": [
       "<Figure size 432x288 with 1 Axes>"
      ]
     },
     "metadata": {
      "needs_background": "light"
     },
     "output_type": "display_data"
    }
   ],
   "source": [
    "plt.plot(objs_split)\n",
    "plt.show()"
   ]
  },
  {
   "cell_type": "code",
   "execution_count": 129,
   "metadata": {},
   "outputs": [
    {
     "data": {
      "text/plain": [
       "array([ 2.49344617e+00,  1.73767905e-01,  1.37499473e-01,  2.23708783e-01,\n",
       "        1.35638135e-01, -2.02356028e-03,  1.56975546e-01,  6.57919344e-02,\n",
       "        1.93315365e-01,  1.17244252e-01,  8.45997881e-02, -3.00852654e-03,\n",
       "        1.31002413e-02, -1.87625445e-01, -3.49675481e-02,  1.60093030e-02,\n",
       "       -4.43192987e-02,  0.00000000e+00, -9.61981453e-02, -2.94699073e-01,\n",
       "       -0.00000000e+00, -5.93743527e-02, -0.00000000e+00, -7.70832348e-02,\n",
       "       -2.81303100e-01,  1.36717635e-01, -0.00000000e+00,  6.22613412e-02,\n",
       "        5.84504102e-02, -0.00000000e+00,  1.25599381e-01, -0.00000000e+00,\n",
       "       -1.15975164e-02, -1.53554490e-02,  1.55605224e-01,  1.50840791e-02,\n",
       "        2.53291640e-02, -3.10355140e-02, -8.61599495e-02, -2.58706059e-02,\n",
       "        0.00000000e+00, -0.00000000e+00,  2.71213672e-03,  0.00000000e+00,\n",
       "        3.28281460e-02,  0.00000000e+00,  4.05596963e-02, -1.64778312e-02,\n",
       "        9.23932435e-04, -2.49934207e-01,  0.00000000e+00,  2.46651104e-02,\n",
       "       -2.70254432e-02,  6.92179378e-02,  0.00000000e+00,  2.30503547e-02,\n",
       "       -7.69223067e-02,  6.83509070e-02, -6.02080952e-02, -4.00578855e-02,\n",
       "       -5.89240499e-04,  3.94986249e-03,  6.31695251e-02,  0.00000000e+00,\n",
       "       -1.48102167e-01, -1.33446018e-01, -2.37670421e-02,  0.00000000e+00,\n",
       "        1.56655226e-01,  2.11807221e-02, -9.15246896e-02, -1.76781774e-01,\n",
       "        7.69000177e-03,  1.14659771e-01, -0.00000000e+00, -9.86578874e-02,\n",
       "        8.81180250e-02, -5.33900041e-02,  1.48264112e-01, -4.04046697e-02,\n",
       "       -1.02953703e-01, -0.00000000e+00,  1.77934803e-01,  2.71771480e-01,\n",
       "        2.37363424e-01,  1.39302420e-01,  4.96482005e-02, -1.08570752e-01,\n",
       "       -1.77147606e-02,  0.00000000e+00, -2.06399033e-01, -7.99769386e-02,\n",
       "        1.74508479e-01, -6.42569464e-02,  0.00000000e+00, -0.00000000e+00,\n",
       "       -9.37662332e-02, -1.69585407e-02,  3.17567943e-01,  0.00000000e+00])"
      ]
     },
     "execution_count": 129,
     "metadata": {},
     "output_type": "execute_result"
    }
   ],
   "source": [
    "beta"
   ]
  },
  {
   "cell_type": "markdown",
   "metadata": {},
   "source": [
    "# Prox with projection"
   ]
  },
  {
   "cell_type": "code",
   "execution_count": 130,
   "metadata": {},
   "outputs": [
    {
     "name": "stdout",
     "output_type": "stream",
     "text": [
      "102.95275120429623\n"
     ]
    }
   ],
   "source": [
    "best_obj = np.inf\n",
    "objs_prox_proj = np.zeros(n_iter)\n",
    "for _ in range(1):\n",
    "    (U, s, Vh) = svd(X)\n",
    "    #beta = Vh[0]\n",
    "    np.random.seed(2)\n",
    "    beta = 5*np.random.normal(size=d)\n",
    "    norm_sigma = np.linalg.norm(Sigma,ord=2)\n",
    "    for i in range(n_iter):\n",
    "        beta = beta - lr * (PCA_grad(Sigma,beta))#+SCAD_ccv_grad(beta,lamb,a=3.7))\n",
    "        beta = prox_l1_project(beta,lr * lamb,norm_sigma)\n",
    "        objs_prox_proj[i] = full_scad_obj(Sigma,beta,lamb)\n",
    "    best_obj = np.minimum(best_obj,full_scad_obj(Sigma,beta,lamb))\n",
    "print(best_obj)\n",
    "# print(beta)\n",
    "# print(sq_error(beta,beta_star))\n",
    "# print(full_scad_obj(Sigma,beta,lamb))"
   ]
  },
  {
   "cell_type": "code",
   "execution_count": 131,
   "metadata": {},
   "outputs": [
    {
     "data": {
      "image/png": "[encoded data removed]",
      "text/plain": [
       "<Figure size 432x288 with 1 Axes>"
      ]
     },
     "metadata": {
      "needs_background": "light"
     },
     "output_type": "display_data"
    }
   ],
   "source": [
    "plt.plot(objs_prox_proj)\n",
    "plt.show()"
   ]
  },
  {
   "cell_type": "code",
   "execution_count": 132,
   "metadata": {},
   "outputs": [
    {
     "data": {
      "text/plain": [
       "array([ 2.47346613e+00,  1.74976201e-01,  1.38626713e-01,  2.25532016e-01,\n",
       "        1.35595483e-01, -1.70160412e-03,  1.57705954e-01,  6.58529423e-02,\n",
       "        1.95528999e-01,  1.17450474e-01,  8.46711901e-02, -3.77099258e-03,\n",
       "        1.30421275e-02, -1.88564802e-01, -3.50007453e-02,  1.67835299e-02,\n",
       "       -4.47239428e-02,  0.00000000e+00, -9.67064491e-02, -2.96675332e-01,\n",
       "       -0.00000000e+00, -5.99099701e-02, -0.00000000e+00, -7.76082100e-02,\n",
       "       -2.83590860e-01,  1.37731368e-01, -0.00000000e+00,  6.26015481e-02,\n",
       "        5.85543889e-02, -0.00000000e+00,  1.25902810e-01, -0.00000000e+00,\n",
       "       -1.08383942e-02, -1.51196387e-02,  1.56334519e-01,  1.49634037e-02,\n",
       "        2.51460432e-02, -3.11897235e-02, -8.72860423e-02, -2.58484430e-02,\n",
       "        0.00000000e+00, -0.00000000e+00,  2.71383353e-03,  0.00000000e+00,\n",
       "        3.26977482e-02,  0.00000000e+00,  3.99888373e-02, -1.64271160e-02,\n",
       "        4.44057061e-04, -2.51470270e-01,  0.00000000e+00,  2.45770289e-02,\n",
       "       -2.65659762e-02,  6.97792025e-02,  0.00000000e+00,  2.24769980e-02,\n",
       "       -7.71376696e-02,  6.79327884e-02, -6.03915688e-02, -4.01551917e-02,\n",
       "       -5.89790157e-04,  3.69293578e-03,  6.32027860e-02,  0.00000000e+00,\n",
       "       -1.48923483e-01, -1.33663476e-01, -2.38727291e-02,  0.00000000e+00,\n",
       "        1.57779000e-01,  2.11974772e-02, -9.14166791e-02, -1.78018745e-01,\n",
       "        7.11797852e-03,  1.15052097e-01, -0.00000000e+00, -9.87085039e-02,\n",
       "        8.87808869e-02, -5.37005635e-02,  1.49741652e-01, -4.08337046e-02,\n",
       "       -1.02830068e-01, -0.00000000e+00,  1.78919803e-01,  2.73211627e-01,\n",
       "        2.39873721e-01,  1.39965405e-01,  4.98598286e-02, -1.09045447e-01,\n",
       "       -1.71204529e-02,  0.00000000e+00, -2.07812745e-01, -8.13471157e-02,\n",
       "        1.75141914e-01, -6.45817207e-02,  0.00000000e+00, -0.00000000e+00,\n",
       "       -9.41124382e-02, -1.67999416e-02,  3.19927505e-01,  0.00000000e+00])"
      ]
     },
     "execution_count": 132,
     "metadata": {},
     "output_type": "execute_result"
    }
   ],
   "source": [
    "beta"
   ]
  },
  {
   "cell_type": "markdown",
   "metadata": {},
   "source": [
    "# Prox with line search, no scad splitting\n",
    "(doesn't work rn)"
   ]
  },
  {
   "cell_type": "code",
   "execution_count": 637,
   "metadata": {},
   "outputs": [
    {
     "name": "stdout",
     "output_type": "stream",
     "text": [
      "broke, 3.391048665648886\n",
      "3.391048665648886\n",
      "broke, 2.3841853888215025\n",
      "2.3841853888215025\n",
      "broke, 1.9283822080144035\n",
      "1.9283822080144035\n",
      "broke, 1.5320393477913938\n",
      "1.5320393477913938\n",
      "broke, 1.2849718567151571\n",
      "1.2849718567151571\n",
      "broke, 1.1327010746859174\n",
      "1.1327010746859174\n",
      "broke, 1.0634194404856945\n",
      "1.0634194404856945\n",
      "broke, 1.0618050009295472\n",
      "1.0618050009295472\n",
      "1.0815302897222947\n",
      "1.2917844506319514\n",
      "2.572655967184829\n",
      "21.8659362738259\n",
      "12602.823430406172\n",
      "2194288848347.4817\n",
      "1.0528801640714031e+37\n",
      "1.0574058337244187e+111\n",
      "nan\n",
      "NANS IN BETA\n",
      "NAN bb init\n",
      "nan\n"
     ]
    },
    {
     "name": "stderr",
     "output_type": "stream",
     "text": [
      "/usr/local/lib/python3.5/dist-packages/ipykernel_launcher.py:24: RuntimeWarning: overflow encountered in multiply\n",
      "/usr/local/lib/python3.5/dist-packages/ipykernel_launcher.py:6: RuntimeWarning: invalid value encountered in multiply\n",
      "  \n",
      "/usr/local/lib/python3.5/dist-packages/ipykernel_launcher.py:8: RuntimeWarning: invalid value encountered in multiply\n",
      "  \n",
      "/usr/local/lib/python3.5/dist-packages/ipykernel_launcher.py:17: RuntimeWarning: invalid value encountered in less_equal\n",
      "/usr/local/lib/python3.5/dist-packages/ipykernel_launcher.py:18: RuntimeWarning: invalid value encountered in greater\n",
      "/usr/local/lib/python3.5/dist-packages/ipykernel_launcher.py:18: RuntimeWarning: invalid value encountered in less_equal\n",
      "/usr/local/lib/python3.5/dist-packages/ipykernel_launcher.py:19: RuntimeWarning: invalid value encountered in greater\n"
     ]
    }
   ],
   "source": [
    "best_obj = np.inf\n",
    "PCA_grad_fn = lambda x: PCA_grad(Sigma,x)\n",
    "PCA_obj_fn = lambda x: PCA_obj(Sigma,x)\n",
    "max_iter=20\n",
    "for _ in range(1):\n",
    "    t = 1000\n",
    "    lamb = 0.3\n",
    "    (U, s, Vh) = svd(X)\n",
    "    beta = Vh[0]\n",
    "    np.random.seed(2)\n",
    "    beta=5*np.random.normal(size=d)\n",
    "    previous = beta\n",
    "    beta = beta - 1/t * PCA_grad(Sigma,beta)\n",
    "    beta = scad(beta,1/t * lamb)\n",
    "    for i in range(100):\n",
    "        t = bb_init(PCA_grad_fn, beta, previous)\n",
    "        if np.isnan(t) or t==0:\n",
    "            print(\"NAN bb init\")\n",
    "            break\n",
    "        break_cond = False\n",
    "        iter_count = 0\n",
    "        while not break_cond and iter_count < max_iter:\n",
    "            previous = beta\n",
    "            beta = beta - 1/t * PCA_grad(Sigma,beta)\n",
    "            beta = scad(beta,1/t * lamb)\n",
    "            if line_search_criterion(PCA_obj_fn,beta,previous,t):\n",
    "                print(\"broke, {0}\".format(np.linalg.norm(beta)))\n",
    "                break_cond=True\n",
    "            t=1.1*t\n",
    "            iter_count += 1\n",
    "            print(np.linalg.norm(beta))\n",
    "            if np.any(np.isnan(beta)):\n",
    "                print(\"NANS IN BETA\")\n",
    "                break\n",
    "    best_obj = np.minimum(best_obj,full_scad_obj(Sigma,beta,lamb))\n",
    "print(best_obj)\n",
    "# print(beta)\n",
    "# print(sq_error(beta,beta_star))\n",
    "# print(full_scad_obj(Sigma,beta,lamb))"
   ]
  },
  {
   "cell_type": "markdown",
   "metadata": {},
   "source": [
    "# Monotone APG\n",
    "from https://zhouchenlin.github.io/Publications/2015-NIPS-APG.pdf"
   ]
  },
  {
   "cell_type": "code",
   "execution_count": 133,
   "metadata": {},
   "outputs": [
    {
     "name": "stdout",
     "output_type": "stream",
     "text": [
      "7.75046721922998\n"
     ]
    }
   ],
   "source": [
    "norm_sigma=np.linalg.norm(Sigma,ord=2)\n",
    "print(norm_sigma)"
   ]
  },
  {
   "cell_type": "code",
   "execution_count": 134,
   "metadata": {},
   "outputs": [
    {
     "name": "stdout",
     "output_type": "stream",
     "text": [
      "102.94213875546033\n"
     ]
    }
   ],
   "source": [
    "np.random.seed(2)\n",
    "x_curr = 5*np.random.normal(size=d)\n",
    "x_prev = x_curr\n",
    "z = x_curr\n",
    "t_prev = 0\n",
    "t_curr = 1\n",
    "lr_x = lr\n",
    "lr_y = lr\n",
    "objs_apg = np.zeros(n_iter)\n",
    "for i in range(n_iter):\n",
    "    y = x_curr + t_prev/t_curr*(z-x_curr) + (t_prev -1)/t_curr*(x_curr-x_prev)\n",
    "    z = prox_l1_project(y-lr_y * (PCA_grad(Sigma,y)+SCAD_ccv_grad(y,lamb,a=3.7)),lr*lamb,norm_sigma)\n",
    "    v = prox_l1_project(x_curr-lr_x * (PCA_grad(Sigma,x_curr)+SCAD_ccv_grad(x_curr,lamb,a=3.7)),lr*lamb,norm_sigma)\n",
    "    t_prev = t_curr\n",
    "    t_curr = 1/2*(np.sqrt(4*t_curr**2+1)+1)\n",
    "    x_prev = x_curr\n",
    "    obj_z = full_scad_obj(Sigma,z,lamb,a=3.7)\n",
    "    obj_v = full_scad_obj(Sigma,v,lamb,a=3.7)\n",
    "    if  obj_z <= obj_v:\n",
    "        x_curr = z\n",
    "    else:\n",
    "        x_curr = v\n",
    "    objs_apg[i] = min(obj_z,obj_v)\n",
    "print(full_scad_obj(Sigma,x_curr,lamb,a=3.7))"
   ]
  },
  {
   "cell_type": "code",
   "execution_count": 135,
   "metadata": {},
   "outputs": [
    {
     "data": {
      "image/png": "[encoded data removed]",
      "text/plain": [
       "<Figure size 432x288 with 1 Axes>"
      ]
     },
     "metadata": {
      "needs_background": "light"
     },
     "output_type": "display_data"
    }
   ],
   "source": [
    "plt.plot(objs_apg)\n",
    "plt.show()"
   ]
  },
  {
   "cell_type": "code",
   "execution_count": 136,
   "metadata": {},
   "outputs": [
    {
     "data": {
      "text/plain": [
       "array([ 2.48790324e+00,  1.73664940e-01,  1.35838298e-01,  2.24544274e-01,\n",
       "        1.42157267e-01, -4.70034543e-03,  1.59605952e-01,  6.98760689e-02,\n",
       "        1.87904128e-01,  1.16683289e-01,  9.19258440e-02, -0.00000000e+00,\n",
       "        1.52319424e-02, -1.88526042e-01, -3.35714886e-02,  8.19009454e-03,\n",
       "       -4.65930394e-02,  0.00000000e+00, -9.35136266e-02, -2.99415428e-01,\n",
       "       -0.00000000e+00, -6.27351302e-02, -0.00000000e+00, -8.54208339e-02,\n",
       "       -2.84888446e-01,  1.36567735e-01, -0.00000000e+00,  6.18703010e-02,\n",
       "        6.00640759e-02, -0.00000000e+00,  1.32694207e-01, -0.00000000e+00,\n",
       "       -1.67004126e-02, -2.20288954e-02,  1.56286070e-01,  1.89734408e-02,\n",
       "        2.94229795e-02, -3.44424425e-02, -8.58558220e-02, -2.84281978e-02,\n",
       "        0.00000000e+00, -0.00000000e+00,  4.28426761e-04,  0.00000000e+00,\n",
       "        3.27754117e-02,  0.00000000e+00,  4.66721700e-02, -2.14568736e-02,\n",
       "        0.00000000e+00, -2.56208754e-01,  0.00000000e+00,  2.84913218e-02,\n",
       "       -2.82893817e-02,  7.11644438e-02,  0.00000000e+00,  2.35238524e-02,\n",
       "       -7.62534502e-02,  7.21363276e-02, -6.26161779e-02, -4.19339573e-02,\n",
       "       -2.52855985e-03,  5.68877429e-03,  6.43098785e-02,  0.00000000e+00,\n",
       "       -1.53599564e-01, -1.45676628e-01, -2.38267634e-02,  0.00000000e+00,\n",
       "        1.59219785e-01,  2.46477042e-02, -9.96740717e-02, -1.76655409e-01,\n",
       "        9.03616224e-03,  1.22547798e-01, -0.00000000e+00, -1.05398212e-01,\n",
       "        8.64101551e-02, -5.56429746e-02,  1.49991825e-01, -4.06466059e-02,\n",
       "       -1.03151370e-01, -0.00000000e+00,  1.81682945e-01,  2.80513604e-01,\n",
       "        2.32902844e-01,  1.42646138e-01,  5.20809808e-02, -1.14787537e-01,\n",
       "       -2.03884768e-02,  0.00000000e+00, -2.05080021e-01, -7.93739529e-02,\n",
       "        1.80775342e-01, -6.34479426e-02,  0.00000000e+00, -0.00000000e+00,\n",
       "       -1.01673962e-01, -1.65290405e-02,  3.23141586e-01,  0.00000000e+00])"
      ]
     },
     "execution_count": 136,
     "metadata": {},
     "output_type": "execute_result"
    }
   ],
   "source": [
    "x_curr"
   ]
  },
  {
   "cell_type": "markdown",
   "metadata": {},
   "source": [
    "# Compare optimizers"
   ]
  },
  {
   "cell_type": "code",
   "execution_count": 137,
   "metadata": {},
   "outputs": [
    {
     "data": {
      "image/png": "[encoded data removed]",
      "text/plain": [
       "<Figure size 432x288 with 1 Axes>"
      ]
     },
     "metadata": {
      "needs_background": "light"
     },
     "output_type": "display_data"
    }
   ],
   "source": [
    "plt.plot(objs_gd,label=\"GD\")\n",
    "plt.plot(objs_scad,label=\"Naive prox\")\n",
    "plt.plot(objs_split, label=\"Prox on split scad\")\n",
    "plt.plot(objs_prox_proj, label=\"Prox and project on split scad\")\n",
    "plt.plot(objs_apg, label=\"APG\")\n",
    "plt.legend()\n",
    "plt.show()"
   ]
  },
  {
   "cell_type": "markdown",
   "metadata": {},
   "source": [
    "# Prox-MCP"
   ]
  },
  {
   "cell_type": "code",
   "execution_count": 435,
   "metadata": {},
   "outputs": [],
   "source": [
    "def MCP_ccv_grad(beta,lamb,a=3.7):\n",
    "    piece1 = piecewise(beta/a,np.abs(beta)<=a*lamb)\n",
    "    piece2 = piecewise(lamb*np.sign(beta),a*lamb<np.abs(beta))\n",
    "    return -(piece1+piece2)"
   ]
  },
  {
   "cell_type": "code",
   "execution_count": 527,
   "metadata": {},
   "outputs": [
    {
     "name": "stdout",
     "output_type": "stream",
     "text": [
      "[-0.00217104 -0.18443326 -0.98832102 -0.          0.          0.\n",
      " -0.          0.          0.         -0.        ]\n",
      "(1.5157258896572714, 0.8065851332307675)\n",
      "13.331881424694986\n"
     ]
    }
   ],
   "source": [
    "lr = 0.001\n",
    "lamb = 1\n",
    "(U, s, Vh) = svd(X)\n",
    "beta = Vh[0]\n",
    "np.random.seed(2)\n",
    "beta = np.random.normal(size=d)\n",
    "for i in range(1000):\n",
    "    # print(SCAD_ccv_grad(beta,lamb))\n",
    "    beta = beta - lr * (PCA_grad(Sigma,beta)+MCP_ccv_grad(beta,lamb))\n",
    "    beta = prox(beta,lr * lamb)\n",
    "    #beta = beta + 0.001 * np.dot(Sigma, beta)\n",
    "    #beta=beta/np.linalg.norm(beta)\n",
    "print(beta)\n",
    "print(sq_error(beta,beta_star))\n",
    "print(full_scad_obj(Sigma,beta,lamb))"
   ]
  },
  {
   "cell_type": "code",
   "execution_count": 327,
   "metadata": {},
   "outputs": [
    {
     "data": {
      "text/plain": [
       "array([ 9.99983578e-01,  5.68058341e-03,  0.00000000e+00, -0.00000000e+00,\n",
       "        0.00000000e+00,  0.00000000e+00, -0.00000000e+00, -0.00000000e+00,\n",
       "       -0.00000000e+00,  7.58097185e-04])"
      ]
     },
     "execution_count": 327,
     "metadata": {},
     "output_type": "execute_result"
    }
   ],
   "source": [
    "l2_project(beta)"
   ]
  },
  {
   "cell_type": "markdown",
   "metadata": {},
   "source": [
    "# Misc: Sparse linear regression with scad"
   ]
  },
  {
   "cell_type": "code",
   "execution_count": 162,
   "metadata": {},
   "outputs": [],
   "source": [
    "X = np.random.multivariate_normal(np.zeros(6),np.eye(6),size=500)\n",
    "beta_star = np.array([1,2,3,0,0,0])\n",
    "Y = np.dot(X,beta_star) + np.random.normal(scale=.2,size=500)"
   ]
  },
  {
   "cell_type": "code",
   "execution_count": 163,
   "metadata": {},
   "outputs": [],
   "source": [
    "# LASSO\n",
    "lr = 0.01\n",
    "lamb = 0.25\n",
    "samp_cov = np.dot(X.T,X)\n",
    "xty = np.dot(X.T,Y)\n",
    "beta = np.array([0.1,-0.1,0.2,0.1,0.3,-0.4])\n",
    "for i in range(10000):\n",
    "    beta = beta - lr * 1/500 *(np.dot(samp_cov,beta)-xty)\n",
    "    beta = prox_l1(beta,lr * lamb)"
   ]
  },
  {
   "cell_type": "code",
   "execution_count": 164,
   "metadata": {},
   "outputs": [
    {
     "data": {
      "text/plain": [
       "array([ 0.78524267,  1.75141246,  2.75215731, -0.        , -0.        ,\n",
       "        0.        ])"
      ]
     },
     "execution_count": 164,
     "metadata": {},
     "output_type": "execute_result"
    }
   ],
   "source": [
    "beta"
   ]
  },
  {
   "cell_type": "code",
   "execution_count": 331,
   "metadata": {},
   "outputs": [
    {
     "data": {
      "text/plain": [
       "array([ 0.        ,  0.        ,  1.11128046, -0.        , -0.        ,\n",
       "        0.        ])"
      ]
     },
     "execution_count": 331,
     "metadata": {},
     "output_type": "execute_result"
    }
   ],
   "source": [
    "# Splitting SCAD\n",
    "lr = 0.005\n",
    "lamb = 2.0\n",
    "samp_cov = np.dot(X.T,X)\n",
    "xty = np.dot(X.T,Y)\n",
    "beta = np.array([0.1,-0.1,0.2,0.1,0.3,-0.4])\n",
    "for i in range(10000):\n",
    "    beta = beta - lr * 1/500 *(np.dot(samp_cov,beta)-xty)-lr*SCAD_ccv_grad(beta,lamb)\n",
    "    beta = prox_l1(beta,lr * lamb)\n",
    "beta"
   ]
  },
  {
   "cell_type": "code",
   "execution_count": 188,
   "metadata": {},
   "outputs": [
    {
     "data": {
      "text/plain": [
       "array([7.45906196e-01, 2.01064033e+00, 2.99311056e+00, 2.06921367e-03,\n",
       "       2.12678680e-03, 1.31704565e-03])"
      ]
     },
     "execution_count": 188,
     "metadata": {},
     "output_type": "execute_result"
    }
   ],
   "source": [
    "for i in range(10000):\n",
    "    beta = beta - lr * 1/500 *(np.dot(samp_cov,beta)-xty)-lr*SCAD_ccv_grad(beta,lamb)-lr*lamb*np.sign(beta)\n",
    "    #beta = prox_l1(beta,lr * lamb)\n",
    "beta"
   ]
  },
  {
   "cell_type": "code",
   "execution_count": 326,
   "metadata": {},
   "outputs": [],
   "source": [
    "obj = lambda b: 1/500*1/2*np.linalg.norm(Y-np.dot(X,b))**2+scad_obj(b,lamb)"
   ]
  },
  {
   "cell_type": "code",
   "execution_count": 325,
   "metadata": {},
   "outputs": [
    {
     "data": {
      "text/plain": [
       "array([1.07056019, 0.        , 2.9442825 , 0.        , 0.        ,\n",
       "       0.        ])"
      ]
     },
     "execution_count": 325,
     "metadata": {},
     "output_type": "execute_result"
    }
   ],
   "source": [
    "# Prox gradient with scad, this actually works for debiasing (but check the scad penalty?)\n",
    "lr = 0.005\n",
    "lamb = 2.0\n",
    "samp_cov = np.dot(X.T,X)\n",
    "xty = np.dot(X.T,Y)\n",
    "beta = np.array([0.1,-0.1,0.2,0.1,0.3,-0.4])\n",
    "for i in range(40000):\n",
    "    beta = beta - lr * 1/500 *(np.dot(samp_cov,beta)-xty)\n",
    "    beta = scad(beta,lr * lamb)\n",
    "beta"
   ]
  },
  {
   "cell_type": "code",
   "execution_count": 169,
   "metadata": {},
   "outputs": [
    {
     "data": {
      "text/plain": [
       "array([ 1.73903557e-01, -2.20379270e-14, -2.18158824e-14,  1.45493963e-02,\n",
       "        3.77988139e-03, -6.30405051e-03])"
      ]
     },
     "execution_count": 169,
     "metadata": {},
     "output_type": "execute_result"
    }
   ],
   "source": [
    "1/500 *(np.dot(samp_cov,beta)-xty)+lamb*np.sign(beta)+SCAD_ccv_grad(beta,lamb)"
   ]
  },
  {
   "cell_type": "code",
   "execution_count": 650,
   "metadata": {},
   "outputs": [
    {
     "name": "stdout",
     "output_type": "stream",
     "text": [
      "broke, 3.716602567406442\n",
      "broke, 3.721294375885585\n",
      "broke, 3.73000152185959\n",
      "broke, 3.729755360482138\n",
      "broke, 3.7298553162638846\n",
      "broke, 3.729864291034363\n",
      "broke, 3.729865654828984\n",
      "broke, 3.729865330947997\n",
      "broke, 3.729865333555754\n",
      "broke, 3.72986533365697\n",
      "broke, 3.7298653336816594\n",
      "broke, 3.7298653336818393\n",
      "broke, 3.7298653336819143\n",
      "broke, 3.7298653336819143\n",
      "broke, 3.7298653336819143\n",
      "broke, 3.7298653336819143\n",
      "broke, 3.7298653336819143\n",
      "broke, 3.7298653336819143\n",
      "broke, 3.7298653336819143\n",
      "bb init 0\n",
      "[ 9.88477106e-01  2.00049983e+00  2.98875072e+00  2.93111780e-03\n",
      " -3.68254499e-03  1.24825653e-02]\n"
     ]
    }
   ],
   "source": [
    "best_obj = np.inf\n",
    "samp_cov = np.dot(X.T,X)\n",
    "xty = np.dot(X.T,Y)\n",
    "reg_grad_fn = lambda x: np.dot(samp_cov,x)-xty\n",
    "reg_obj_fn = lambda x: np.linalg.norm(Y-np.dot(X,x))**2\n",
    "max_iter=100\n",
    "for _ in range(1):\n",
    "    t = 1000\n",
    "    lamb = 0.3\n",
    "    (U, s, Vh) = svd(X)\n",
    "    beta = Vh[0]\n",
    "    np.random.seed(2)\n",
    "    beta = np.array([0.1,-0.1,0.2,0.1,0.3,-0.4])\n",
    "    previous = beta\n",
    "    beta = beta - 1/t * (np.dot(samp_cov,beta)-xty)\n",
    "    beta = scad(beta,1/t * lamb)\n",
    "    for i in range(1000):\n",
    "        t = bb_init(reg_grad_fn, beta, previous)\n",
    "        if np.isnan(t):\n",
    "            print(\"NAN bb init\")\n",
    "            break\n",
    "        elif t==0:\n",
    "            print(\"bb init 0\")\n",
    "            break\n",
    "        break_cond = False\n",
    "        iter_count = 0\n",
    "        while not break_cond and iter_count < max_iter:\n",
    "            previous = beta\n",
    "            beta = beta - 1/t * (np.dot(samp_cov,beta)-xty)\n",
    "            beta = scad(beta,1/t * lamb)\n",
    "            if line_search_criterion(reg_obj_fn,beta,previous,t):\n",
    "                print(\"broke, {0}\".format(np.linalg.norm(beta)))\n",
    "                break_cond=True\n",
    "            t=1.1*t\n",
    "            iter_count += 1\n",
    "            if np.any(np.isnan(beta)):\n",
    "                print(\"NANS IN BETA\")\n",
    "                break\n",
    "    #best_obj = np.minimum(best_obj,full_scad_obj(Sigma,beta,lamb))\n",
    "print(beta)\n",
    "# print(beta)\n",
    "# print(sq_error(beta,beta_star))\n",
    "# print(full_scad_obj(Sigma,beta,lamb))"
   ]
  },
  {
   "cell_type": "code",
   "execution_count": null,
   "metadata": {},
   "outputs": [],
   "source": []
  }
 ],
 "metadata": {
  "@webio": {
   "lastCommId": null,
   "lastKernelId": null
  },
  "kernelspec": {
   "display_name": "Python 3",
   "language": "python",
   "name": "python3"
  },
  "language_info": {
   "codemirror_mode": {
    "name": "ipython",
    "version": 3
   },
   "file_extension": ".py",
   "mimetype": "text/x-python",
   "name": "python",
   "nbconvert_exporter": "python",
   "pygments_lexer": "ipython3",
   "version": "3.5.2"
  }
 },
 "nbformat": 4,
 "nbformat_minor": 2
}
