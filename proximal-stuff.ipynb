{
 "cells": [
  {
   "cell_type": "code",
   "execution_count": 145,
   "metadata": {},
   "outputs": [],
   "source": [
    "import numpy as np\n",
    "import time\n",
    "from sklearn.decomposition import PCA, SparsePCA\n",
    "from scipy.linalg import svd"
   ]
  },
  {
   "cell_type": "code",
   "execution_count": 489,
   "metadata": {},
   "outputs": [],
   "source": [
    "def piecewise(val,cond):\n",
    "    return val * cond\n",
    "\n",
    "def scad(vec, lam, a=3.7):\n",
    "    return np.multiply(np.multiply(vec - lam * np.sign(vec), np.abs(vec) > lam), np.abs(vec) < (2*lam)) + \\\n",
    "            np.multiply(vec, np.abs(vec) > a * lam) + \\\n",
    "            np.multiply(np.multiply(((a - 1) * vec - np.sign(vec) * lam * a )/ (a - 2), \\\n",
    "                                    np.abs(vec) > (2*lam)), np.abs(vec) < (a*lam))\n",
    "\n",
    "def l2_project(beta):\n",
    "    if np.linalg.norm(beta) > 0:\n",
    "        return beta/np.linalg.norm(beta)\n",
    "    else:\n",
    "        return beta\n",
    "\n",
    "def scad_obj(vec, lamb, a=3.7):\n",
    "    piece1 = piecewise(lamb*np.abs(vec),np.abs(vec)<=lamb)\n",
    "    piece2 = piecewise(1/(2*(a-1))*(2*a*lamb*np.abs(vec)-vec**2-lamb**2),np.logical_and(lamb<np.abs(vec),np.abs(vec)<=a*lamb))\n",
    "    piece3 = piecewise(lamb**2*(a+1)/2,a*lamb<np.abs(vec))\n",
    "    return np.sum(piece1+piece2+piece3)\n",
    "\n",
    "# Gradient of pca objective ||Sigma-beta beta^T||_F^2\n",
    "def PCA_grad(Sigma,beta):\n",
    "    return 4*(-np.dot(Sigma,beta)+np.sum(np.square(beta))*beta)\n",
    "\n",
    "# SCAD = L1 - cvx\n",
    "# This is the gradient of the -cvx part\n",
    "def SCAD_ccv_grad(beta,lamb,a=3.7):\n",
    "    piece1 = piecewise(0,np.abs(beta)<=lamb)\n",
    "    piece2 = piecewise(1/(a-1)*(beta-lamb*np.sign(beta)),np.logical_and(lamb<np.abs(beta),np.abs(beta)<=a*lamb))\n",
    "    piece3 = piecewise(lamb*np.sign(beta),np.abs(beta)>a*lamb)\n",
    "    return -(piece1+piece2+piece3)\n",
    "\n",
    "# Proximal operator for L1\n",
    "def prox_l1(v,c):\n",
    "    return np.sign(v) * np.maximum(np.abs(v)-c,0)\n",
    "\n",
    "def PCA_obj(Sigma,beta):\n",
    "    return np.linalg.norm(Sigma-np.outer(beta,beta),ord=\"fro\")**2\n",
    "\n",
    "def l1_obj(beta,lamb):\n",
    "    return lamb*np.sum(np.abs(beta))\n",
    "\n",
    "# This is the objective function for SCAD\n",
    "def full_scad_obj(Sigma,beta,lamb,a=3.7):\n",
    "    return PCA_obj(Sigma,beta)+scad_obj(beta,lamb,a)\n",
    "\n",
    "# def prox_line_search(f,x,lamb,beta=.5):\n",
    "#    while f()"
   ]
  },
  {
   "cell_type": "code",
   "execution_count": 428,
   "metadata": {},
   "outputs": [],
   "source": [
    "# Squared error between both beta1 and beta2 and the normalized versions\n",
    "def sq_error(beta1,beta2):\n",
    "    return np.linalg.norm(beta1-beta2), np.linalg.norm(l2_project(beta1)-l2_project(beta2))"
   ]
  },
  {
   "cell_type": "markdown",
   "metadata": {},
   "source": [
    "# Spiked covariance"
   ]
  },
  {
   "cell_type": "code",
   "execution_count": 490,
   "metadata": {},
   "outputs": [],
   "source": [
    "# Generates n samples from spiked covariance model of dimension d, spike at u with signal strength gamma\n",
    "def spiked_cov(n,d,u,gamma=1,return_cov=False):\n",
    "    u = u / np.linalg.norm(u)\n",
    "    cov = np.eye(d) + gamma * np.outer(u,u)\n",
    "    X = np.random.multivariate_normal(np.zeros(d),cov,size=n)\n",
    "    if return_cov:\n",
    "        return X, cov\n",
    "    else:\n",
    "        return X\n",
    "\n",
    "# First s entries are 1\n",
    "def equal_spike(n,d,s,gamma=1,return_cov=False):\n",
    "    u = np.zeros(d)\n",
    "    u[:s] = 1\n",
    "    return spiked_cov(n,d,u,gamma,return_cov)\n",
    "\n",
    "# First entry is alpha, next s-1 entries are 1\n",
    "def heavy_spike(n,d,s,gamma=1,alpha=10,return_cov=False):\n",
    "    u = np.zeros(d)\n",
    "    u[0] = alpha\n",
    "    u[1:s] = 1\n",
    "    return spiked_cov(n,d,u,gamma,return_cov)"
   ]
  },
  {
   "cell_type": "code",
   "execution_count": 501,
   "metadata": {},
   "outputs": [],
   "source": [
    "n = 200\n",
    "d = 10\n",
    "s = 3\n",
    "X, pop_cov = equal_spike(n,d,s,return_cov=True)\n",
    "Sigma = 1/n*np.dot(X.T,X)"
   ]
  },
  {
   "cell_type": "code",
   "execution_count": 502,
   "metadata": {},
   "outputs": [
    {
     "data": {
      "text/plain": [
       "array([-1.27390522, -1.3683025 , -0.82566492, -0.4867676 ,  0.43420108,\n",
       "        0.05288773,  0.05499859,  0.02648846,  0.00445584,  0.00904706])"
      ]
     },
     "execution_count": 502,
     "metadata": {},
     "output_type": "execute_result"
    }
   ],
   "source": [
    "sample_vals, sample_vecs = np.linalg.eigh(Sigma)\n",
    "sample_vecs[:,d-1]*sample_vals[d-1]"
   ]
  },
  {
   "cell_type": "code",
   "execution_count": 503,
   "metadata": {},
   "outputs": [
    {
     "data": {
      "text/plain": [
       "array([-1.15470054, -1.15470054, -1.15470054,  0.        ,  0.        ,\n",
       "        0.        ,  0.        ,  0.        ,  0.        ,  0.        ])"
      ]
     },
     "execution_count": 503,
     "metadata": {},
     "output_type": "execute_result"
    }
   ],
   "source": [
    "pop_vals, pop_vecs = np.linalg.eigh(pop_cov)\n",
    "pop_vecs[:,d-1]*pop_vals[d-1]"
   ]
  },
  {
   "cell_type": "code",
   "execution_count": 504,
   "metadata": {},
   "outputs": [
    {
     "data": {
      "text/plain": [
       "array([-0.57735027, -0.57735027, -0.57735027,  0.        ,  0.        ,\n",
       "        0.        ,  0.        ,  0.        ,  0.        ,  0.        ])"
      ]
     },
     "execution_count": 504,
     "metadata": {},
     "output_type": "execute_result"
    }
   ],
   "source": [
    "pop_vecs[:,d-1]"
   ]
  },
  {
   "cell_type": "code",
   "execution_count": 505,
   "metadata": {},
   "outputs": [],
   "source": [
    "beta_star = pop_vecs[:,d-1]*pop_vals[d-1]\n",
    "beta_star_normalized = pop_vecs[:,d-1]"
   ]
  },
  {
   "cell_type": "code",
   "execution_count": 506,
   "metadata": {},
   "outputs": [
    {
     "data": {
      "text/plain": [
       "array([[-0.61796707, -0.65560347, -0.36772513, -0.17958067,  0.14432533,\n",
       "         0.        ,  0.        ,  0.        ,  0.        ,  0.        ]])"
      ]
     },
     "execution_count": 506,
     "metadata": {},
     "output_type": "execute_result"
    }
   ],
   "source": [
    "start = time.time()\n",
    "spca = SparsePCA(n_components=1, method='cd',normalize_components=True)\n",
    "SPCAResult = spca.fit(X)\n",
    "spca_time_result = time.time() - start\n",
    "SPCAResult.components_"
   ]
  },
  {
   "cell_type": "markdown",
   "metadata": {},
   "source": [
    "# Useful functions"
   ]
  },
  {
   "cell_type": "code",
   "execution_count": 480,
   "metadata": {},
   "outputs": [],
   "source": [
    "# Gradient of pca objective ||Sigma-beta beta^T||_F^2\n",
    "def PCA_grad(Sigma,beta):\n",
    "    return 4*(-np.dot(Sigma,beta)+np.sum(np.square(beta))*beta)\n",
    "\n",
    "# SCAD = L1 - cvx\n",
    "# This is the gradient of the -cvx part\n",
    "def SCAD_ccv_grad(beta,lamb,a=3.7):\n",
    "    piece1 = piecewise(0,np.abs(beta)<=lamb)\n",
    "    piece2 = piecewise(1/(a-1)*(beta-lamb*np.sign(beta)),np.logical_and(lamb<np.abs(beta),np.abs(beta)<=a*lamb))\n",
    "    piece3 = piecewise(lamb*np.sign(beta),np.abs(beta)>a*lamb)\n",
    "    return -(piece1+piece2+piece3)\n",
    "\n",
    "# Proximal operator for L1\n",
    "def prox_l1(v,c):\n",
    "    return np.sign(v) * np.maximum(np.abs(v)-c,0)"
   ]
  },
  {
   "cell_type": "markdown",
   "metadata": {},
   "source": [
    "# SCAD subgradient descent"
   ]
  },
  {
   "cell_type": "code",
   "execution_count": 507,
   "metadata": {},
   "outputs": [
    {
     "name": "stdout",
     "output_type": "stream",
     "text": [
      "[-7.67821789e-06 -4.10170756e-06  1.04323628e-06 -1.91387237e-05\n",
      " -3.90126780e-05 -2.34557199e-05 -8.97173383e-01 -3.01305697e-05\n",
      " -2.46649797e-05 -1.72555075e-05]\n",
      "(2.1920071369314207, 1.4142086767594086)\n",
      "13.549835497302015\n"
     ]
    }
   ],
   "source": [
    "lr = 0.005\n",
    "lamb = 1\n",
    "(U, s, Vh) = svd(X)\n",
    "beta = Vh[0]\n",
    "np.random.seed(70)\n",
    "beta=np.random.normal(size=d)\n",
    "for i in range(10000):\n",
    "    beta = beta - lr/np.sqrt(i+1) * (PCA_grad(Sigma,beta)+SCAD_ccv_grad(beta,lamb)+lamb*np.sign(beta))\n",
    "    # beta = scad(beta,lr * lamb)\n",
    "    #beta = beta + 0.001 * np.dot(Sigma, beta)\n",
    "    #beta=beta/np.linalg.norm(beta)\n",
    "print(beta)\n",
    "print(sq_error(beta,beta_star))\n",
    "print(full_scad_obj(Sigma,beta,lamb))"
   ]
  },
  {
   "cell_type": "markdown",
   "metadata": {},
   "source": [
    "# Naive prox with scad"
   ]
  },
  {
   "cell_type": "code",
   "execution_count": 508,
   "metadata": {},
   "outputs": [
    {
     "name": "stdout",
     "output_type": "stream",
     "text": [
      "[ 0.87450708  0.92941139  0.56265027  0.33029671 -0.30038484  0.\n",
      " -0.03952788  0.          0.         -0.01009864]\n",
      "(3.4075638345251127, 1.9660489586034235)\n",
      "12.20212925294048\n"
     ]
    }
   ],
   "source": [
    "lr = 0.001\n",
    "lamb = 1\n",
    "(U, s, Vh) = svd(X)\n",
    "beta = Vh[0]\n",
    "np.random.seed(70)\n",
    "beta=np.random.normal(size=d)\n",
    "for i in range(10000):\n",
    "    beta = beta - lr * PCA_grad(Sigma,beta)\n",
    "    beta = scad(beta,lr * lamb)\n",
    "    #beta = beta + 0.001 * np.dot(Sigma, beta)\n",
    "    #beta=beta/np.linalg.norm(beta)\n",
    "print(beta)\n",
    "print(sq_error(beta,beta_star))\n",
    "print(full_scad_obj(Sigma,beta,lamb))"
   ]
  },
  {
   "cell_type": "markdown",
   "metadata": {},
   "source": [
    "# Lasso via prox"
   ]
  },
  {
   "cell_type": "code",
   "execution_count": 509,
   "metadata": {},
   "outputs": [
    {
     "name": "stdout",
     "output_type": "stream",
     "text": [
      "[ 0.          0.         -0.          0.         -0.          0.\n",
      " -0.90224557 -0.         -0.          0.        ]\n",
      "(2.1940936764173657, 1.4142135623730951)\n",
      "13.549597590232448\n"
     ]
    }
   ],
   "source": [
    "lr = 0.001\n",
    "lamb = 1\n",
    "(U, s, Vh) = svd(X)\n",
    "beta = Vh[0]\n",
    "np.random.seed(70)\n",
    "beta = np.random.normal(size=d)\n",
    "for i in range(10000):\n",
    "    # print(SCAD_ccv_grad(beta,lamb))\n",
    "    beta = beta - lr * (PCA_grad(Sigma,beta))\n",
    "    beta = prox_l1(beta,lr * lamb)\n",
    "    #beta = beta + 0.001 * np.dot(Sigma, beta)\n",
    "    #beta=beta/np.linalg.norm(beta)\n",
    "print(beta)\n",
    "print(sq_error(beta,beta_star))\n",
    "print(full_scad_obj(Sigma,beta,lamb))"
   ]
  },
  {
   "cell_type": "markdown",
   "metadata": {},
   "source": [
    "# Prox by splitting scad"
   ]
  },
  {
   "cell_type": "code",
   "execution_count": 510,
   "metadata": {},
   "outputs": [
    {
     "name": "stdout",
     "output_type": "stream",
     "text": [
      "[ 0.          0.         -0.          0.         -0.          0.\n",
      " -0.90224557 -0.         -0.          0.        ]\n",
      "(2.1940936764173657, 1.4142135623730951)\n",
      "13.549597590232448\n"
     ]
    }
   ],
   "source": [
    "lr = 0.001\n",
    "lamb = 1\n",
    "(U, s, Vh) = svd(X)\n",
    "beta = Vh[0]\n",
    "np.random.seed(70)\n",
    "beta = np.random.normal(size=d)\n",
    "for i in range(10000):\n",
    "    # print(SCAD_ccv_grad(beta,lamb))\n",
    "    beta = beta - lr * (PCA_grad(Sigma,beta)+SCAD_ccv_grad(beta,lamb,a=3.7))\n",
    "    beta = prox_l1(beta,lr * lamb)\n",
    "    #beta = beta + 0.001 * np.dot(Sigma, beta)\n",
    "    #beta=beta/np.linalg.norm(beta)\n",
    "print(beta)\n",
    "print(sq_error(beta,beta_star))\n",
    "print(full_scad_obj(Sigma,beta,lamb))"
   ]
  },
  {
   "cell_type": "code",
   "execution_count": 335,
   "metadata": {},
   "outputs": [
    {
     "data": {
      "text/plain": [
       "array([ 0.99995717,  0.00850883,  0.        , -0.        ,  0.        ,\n",
       "        0.        , -0.        , -0.        , -0.        ,  0.00364157])"
      ]
     },
     "execution_count": 335,
     "metadata": {},
     "output_type": "execute_result"
    }
   ],
   "source": [
    "l2_project(beta)"
   ]
  },
  {
   "cell_type": "code",
   "execution_count": 362,
   "metadata": {},
   "outputs": [
    {
     "data": {
      "text/plain": [
       "array([-1.55431223e-15, -5.55111512e-17, -1.77692011e-01,  7.24407440e-02,\n",
       "       -2.29567260e-01, -2.89558597e-01,  1.46486986e-01,  4.79587529e-02,\n",
       "        5.68151406e-02,  0.00000000e+00])"
      ]
     },
     "execution_count": 362,
     "metadata": {},
     "output_type": "execute_result"
    }
   ],
   "source": [
    "PCA_grad(Sigma,beta)+SCAD_ccv_grad(beta,lamb,a=3.7)+lamb*np.sign(beta)"
   ]
  },
  {
   "cell_type": "code",
   "execution_count": 366,
   "metadata": {},
   "outputs": [
    {
     "data": {
      "text/plain": [
       "array([-1.09912079e-14, -5.55111512e-17, -1.74526818e-01,  7.09576265e-02,\n",
       "       -2.25288305e-01, -2.84212705e-01,  1.43867883e-01,  4.68470857e-02,\n",
       "        5.61566606e-02,  0.00000000e+00])"
      ]
     },
     "execution_count": 366,
     "metadata": {},
     "output_type": "execute_result"
    }
   ],
   "source": [
    "PCA_grad(Sigma,beta)+lamb*np.sign(beta)"
   ]
  },
  {
   "cell_type": "markdown",
   "metadata": {},
   "source": [
    "# Prox-MCP"
   ]
  },
  {
   "cell_type": "code",
   "execution_count": 435,
   "metadata": {},
   "outputs": [],
   "source": [
    "def MCP_ccv_grad(beta,lamb,a=3.7):\n",
    "    piece1 = piecewise(beta/a,np.abs(beta)<=a*lamb)\n",
    "    piece2 = piecewise(lamb*np.sign(beta),a*lamb<np.abs(beta))\n",
    "    return -(piece1+piece2)"
   ]
  },
  {
   "cell_type": "code",
   "execution_count": 467,
   "metadata": {},
   "outputs": [
    {
     "name": "stdout",
     "output_type": "stream",
     "text": [
      "[-0.00535729 -0.         -0.61348257 -0.15478699  0.         -0.\n",
      "  0.          0.         -0.10489682 -0.          0.         -0.\n",
      " -0.          0.110186   -0.28179378 -0.          0.07998022  0.\n",
      " -0.03674899 -0.         -0.         -0.         -0.         -0.13830803\n",
      " -0.00389978 -0.          0.         -0.1771918  -0.         -0.\n",
      " -0.08442501  0.4784156   0.         -0.          0.          0.\n",
      " -0.         -0.          0.0153236   0.03333093  0.          0.\n",
      "  0.23405114 -0.          0.         -0.          0.         -0.06245266\n",
      "  0.          0.20226264  0.          0.          0.40387902 -0.\n",
      " -0.04598196 -0.          0.03784555 -0.         -0.4877225  -0.02093607\n",
      "  0.          0.         -0.17424607  0.01187938  0.         -0.\n",
      " -0.03523897 -0.         -0.          0.          0.          0.25485659\n",
      "  0.07739468  0.         -0.          0.          0.         -0.40503046\n",
      " -0.         -0.          0.         -0.         -0.          0.\n",
      "  0.08065139 -0.          0.         -0.04719326  0.         -0.12290753\n",
      "  0.04529838  0.         -0.          0.22967647 -0.33482188  0.36431292\n",
      " -0.          0.         -0.         -0.        ]\n",
      "(2.112857896052039, 1.2168315464105264)\n",
      "5.382598261125914\n"
     ]
    }
   ],
   "source": [
    "lr = 0.001\n",
    "lamb = 1\n",
    "(U, s, Vh) = svd(X)\n",
    "beta = Vh[0]\n",
    "np.random.seed(70)\n",
    "beta = np.random.normal(size=d)\n",
    "for i in range(1000):\n",
    "    # print(SCAD_ccv_grad(beta,lamb))\n",
    "    beta = beta - lr * (PCA_grad(Sigma,beta)+MCP_ccv_grad(beta,lamb))\n",
    "    beta = prox(beta,lr * lamb)\n",
    "    #beta = beta + 0.001 * np.dot(Sigma, beta)\n",
    "    #beta=beta/np.linalg.norm(beta)\n",
    "print(beta)\n",
    "print(sq_error(beta,beta_star))\n",
    "print(full_scad_obj(Sigma,beta,lamb))"
   ]
  },
  {
   "cell_type": "code",
   "execution_count": 327,
   "metadata": {},
   "outputs": [
    {
     "data": {
      "text/plain": [
       "array([ 9.99983578e-01,  5.68058341e-03,  0.00000000e+00, -0.00000000e+00,\n",
       "        0.00000000e+00,  0.00000000e+00, -0.00000000e+00, -0.00000000e+00,\n",
       "       -0.00000000e+00,  7.58097185e-04])"
      ]
     },
     "execution_count": 327,
     "metadata": {},
     "output_type": "execute_result"
    }
   ],
   "source": [
    "l2_project(beta)"
   ]
  },
  {
   "cell_type": "markdown",
   "metadata": {},
   "source": [
    "# Misc: Sparse linear regression with scad"
   ]
  },
  {
   "cell_type": "code",
   "execution_count": 367,
   "metadata": {},
   "outputs": [],
   "source": [
    "X = np.random.multivariate_normal(np.zeros(6),np.eye(6),size=500)\n",
    "beta_star = np.array([1,2,3,0,0,0])\n",
    "Y = np.dot(X,beta_star) + np.random.normal(scale=.2,size=500)"
   ]
  },
  {
   "cell_type": "code",
   "execution_count": 368,
   "metadata": {},
   "outputs": [],
   "source": [
    "# LASSO\n",
    "lr = 0.01\n",
    "lamb = 0.25\n",
    "samp_cov = np.dot(X.T,X)\n",
    "xty = np.dot(X.T,Y)\n",
    "beta = np.array([0.1,-0.1,0.2,0.1,0.3,-0.4])\n",
    "for i in range(10000):\n",
    "    beta = beta - lr * 1/500 *(np.dot(samp_cov,beta)-xty)\n",
    "    beta = prox_l1(beta,lr * lamb)"
   ]
  },
  {
   "cell_type": "code",
   "execution_count": 369,
   "metadata": {},
   "outputs": [
    {
     "data": {
      "text/plain": [
       "array([0.74472985, 1.7636387 , 2.7332998 , 0.        , 0.        ,\n",
       "       0.        ])"
      ]
     },
     "execution_count": 369,
     "metadata": {},
     "output_type": "execute_result"
    }
   ],
   "source": [
    "beta"
   ]
  },
  {
   "cell_type": "code",
   "execution_count": 381,
   "metadata": {},
   "outputs": [
    {
     "data": {
      "text/plain": [
       "array([0.72265217, 1.99978766, 2.98029579, 0.        , 0.        ,\n",
       "       0.        ])"
      ]
     },
     "execution_count": 381,
     "metadata": {},
     "output_type": "execute_result"
    }
   ],
   "source": [
    "# Splitting SCAD\n",
    "lr = 0.01\n",
    "lamb = .4\n",
    "samp_cov = np.dot(X.T,X)\n",
    "xty = np.dot(X.T,Y)\n",
    "beta = np.array([0.1,-0.1,0.2,0.1,0.3,-0.4])\n",
    "for i in range(10000):\n",
    "    beta = beta - lr * 1/500 *(np.dot(samp_cov,beta)-xty)-lr*SCAD_ccv_grad(beta,lamb)\n",
    "    beta = prox_l1(beta,lr * lamb)\n",
    "beta"
   ]
  },
  {
   "cell_type": "code",
   "execution_count": 244,
   "metadata": {},
   "outputs": [
    {
     "data": {
      "text/plain": [
       "array([ 3.32622818e-13, -1.10778053e-12, -2.22005747e-12, -1.08399197e-02,\n",
       "        1.99455401e-03,  1.91817508e-02])"
      ]
     },
     "execution_count": 244,
     "metadata": {},
     "output_type": "execute_result"
    }
   ],
   "source": [
    "1/500 *(np.dot(samp_cov,beta)-xty)+lamb*np.sign(beta)+SCAD_ccv_grad(beta,lamb)"
   ]
  },
  {
   "cell_type": "code",
   "execution_count": 245,
   "metadata": {},
   "outputs": [],
   "source": [
    "beta_scad1 = beta"
   ]
  },
  {
   "cell_type": "code",
   "execution_count": 377,
   "metadata": {},
   "outputs": [
    {
     "data": {
      "text/plain": [
       "array([0.98852003, 0.        , 3.08700832, 0.        , 0.        ,\n",
       "       0.        ])"
      ]
     },
     "execution_count": 377,
     "metadata": {},
     "output_type": "execute_result"
    }
   ],
   "source": [
    "# Prox gradient with scad, this actually works for debiasing (but check the scad penalty?)\n",
    "lr = 0.01\n",
    "lamb = 3\n",
    "samp_cov = np.dot(X.T,X)\n",
    "xty = np.dot(X.T,Y)\n",
    "beta = np.array([0.1,-0.1,0.2,0.1,0.3,-0.4])\n",
    "for i in range(10000):\n",
    "    beta = beta - lr * 1/500 *(np.dot(samp_cov,beta)-xty)\n",
    "    beta = scad(beta,lr * lamb)\n",
    "beta"
   ]
  },
  {
   "cell_type": "code",
   "execution_count": 247,
   "metadata": {},
   "outputs": [
    {
     "data": {
      "text/plain": [
       "array([ 3.15775310e-01, -2.20379270e-14, -3.63598041e-14, -7.60001987e-03,\n",
       "        5.00000000e-01, -7.88898215e-03])"
      ]
     },
     "execution_count": 247,
     "metadata": {},
     "output_type": "execute_result"
    }
   ],
   "source": [
    "1/500 *(np.dot(samp_cov,beta)-xty)+lamb*np.sign(beta)+SCAD_ccv_grad(beta,lamb)"
   ]
  }
 ],
 "metadata": {
  "kernelspec": {
   "display_name": "Python 3",
   "language": "python",
   "name": "python3"
  },
  "language_info": {
   "codemirror_mode": {
    "name": "ipython",
    "version": 3
   },
   "file_extension": ".py",
   "mimetype": "text/x-python",
   "name": "python",
   "nbconvert_exporter": "python",
   "pygments_lexer": "ipython3",
   "version": "3.5.2"
  }
 },
 "nbformat": 4,
 "nbformat_minor": 2
}
