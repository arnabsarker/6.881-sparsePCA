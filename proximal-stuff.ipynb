{
 "cells": [
  {
   "cell_type": "code",
   "execution_count": 145,
   "metadata": {},
   "outputs": [],
   "source": [
    "import numpy as np\n",
    "import time\n",
    "from sklearn.decomposition import PCA, SparsePCA\n",
    "from scipy.linalg import svd"
   ]
  },
  {
   "cell_type": "code",
   "execution_count": 146,
   "metadata": {},
   "outputs": [],
   "source": [
    "def scad(vec, lam, a=3.7):\n",
    "    return np.multiply(np.multiply(vec - lam * np.sign(vec), np.abs(vec) > lam), np.abs(vec) < (2*lam)) + \\\n",
    "            np.multiply(vec, np.abs(vec) > a * lam) + \\\n",
    "            np.multiply(np.multiply(((a - 1) * vec - np.sign(vec) * lam * a )/ (a - 2), \\\n",
    "                                    np.abs(vec) > (2*lam)), np.abs(vec) < (a*lam))"
   ]
  },
  {
   "cell_type": "markdown",
   "metadata": {},
   "source": [
    "# Spiked covariance"
   ]
  },
  {
   "cell_type": "code",
   "execution_count": 147,
   "metadata": {},
   "outputs": [],
   "source": [
    "# Generates n samples from spiked covariance model of dimension d, spike at u with signal strength gamma\n",
    "def spiked_cov(n,d,u,gamma=1,return_cov=False):\n",
    "    u = u / np.linalg.norm(u)\n",
    "    cov = np.eye(d) + gamma * np.outer(u,u)\n",
    "    X = np.random.multivariate_normal(mu,cov,size=n)\n",
    "    if return_cov:\n",
    "        return X, cov\n",
    "    else:\n",
    "        return X\n",
    "\n",
    "# First s entries are 1\n",
    "def equal_spike(n,d,s,gamma=1,return_cov=False):\n",
    "    u = np.zeros(d)\n",
    "    u[:s] = 1\n",
    "    return spiked_cov(n,d,u,gamma,return_cov)\n",
    "\n",
    "# First entry is alpha, next s-1 entries are 1\n",
    "def heavy_spike(n,d,s,gamma=1,alpha=10,return_cov=False):\n",
    "    u = np.zeros(d)\n",
    "    u[0] = alpha\n",
    "    u[1:s] = 1\n",
    "    return spiked_cov(n,d,u,gamma,return_cov)"
   ]
  },
  {
   "cell_type": "code",
   "execution_count": 148,
   "metadata": {},
   "outputs": [],
   "source": [
    "n = 200\n",
    "d = 10\n",
    "s = 3\n",
    "X, pop_cov = heavy_spike(n,d,s,return_cov=True)\n",
    "Sigma = 1/n*np.dot(X.T,X)"
   ]
  },
  {
   "cell_type": "code",
   "execution_count": 149,
   "metadata": {},
   "outputs": [
    {
     "data": {
      "text/plain": [
       "array([-1.57947298, -0.39661853, -0.34366175, -0.16656548, -0.19186559,\n",
       "       -0.33501456, -0.15234172, -0.15672689, -0.19132956,  0.10243337])"
      ]
     },
     "execution_count": 149,
     "metadata": {},
     "output_type": "execute_result"
    }
   ],
   "source": [
    "sample_vals, sample_vecs = np.linalg.eigh(Sigma)\n",
    "sample_vecs[:,d-1]*sample_vals[d-1]"
   ]
  },
  {
   "cell_type": "code",
   "execution_count": 150,
   "metadata": {},
   "outputs": [
    {
     "data": {
      "text/plain": [
       "array([1.98029509, 0.19802951, 0.19802951, 0.        , 0.        ,\n",
       "       0.        , 0.        , 0.        , 0.        , 0.        ])"
      ]
     },
     "execution_count": 150,
     "metadata": {},
     "output_type": "execute_result"
    }
   ],
   "source": [
    "pop_vals, pop_vecs = np.linalg.eigh(pop_cov)\n",
    "pop_vecs[:,d-1]*pop_vals[d-1]"
   ]
  },
  {
   "cell_type": "markdown",
   "metadata": {},
   "source": [
    "# Useful functions"
   ]
  },
  {
   "cell_type": "code",
   "execution_count": 151,
   "metadata": {},
   "outputs": [],
   "source": [
    "def piecewise(val,cond):\n",
    "    return val * cond\n",
    "\n",
    "# Gradient of pca objective ||Sigma-beta beta^T||_F^2\n",
    "def PCA_grad(Sigma,beta):\n",
    "    return 4*(-np.dot(Sigma,beta)+np.sum(np.square(beta))*beta)\n",
    "\n",
    "# SCAD = L1 - cvx\n",
    "# This is the gradient of the cvx part\n",
    "def SCAD_ccv_grad(beta,lamb,a=3.7):\n",
    "    piece1 = piecewise(0,np.abs(beta)<=lamb)\n",
    "    piece2 = piecewise(1/(a-1)*(beta-lamb*np.sign(beta)),np.logical_and(lamb<np.abs(beta),np.abs(beta)<=a*lamb))\n",
    "    piece3 = piecewise(lamb*np.sign(beta),np.abs(beta)>a*lamb)\n",
    "    return piece1+piece2+piece3\n",
    "\n",
    "# Proximal operator for L1\n",
    "def prox_l1(v,c):\n",
    "    return np.sign(v) * np.maximum(np.abs(v)-c,0)"
   ]
  },
  {
   "cell_type": "markdown",
   "metadata": {},
   "source": [
    "# Naive prox with scad"
   ]
  },
  {
   "cell_type": "code",
   "execution_count": 152,
   "metadata": {},
   "outputs": [
    {
     "data": {
      "text/plain": [
       "array([-1.19599482, -0.30032404, -0.26022457, -0.12612527, -0.1452828 ,\n",
       "       -0.25367682, -0.11535487, -0.11867537, -0.1448769 ,  0.0775637 ])"
      ]
     },
     "execution_count": 152,
     "metadata": {},
     "output_type": "execute_result"
    }
   ],
   "source": [
    "lr = 0.001\n",
    "lamb = 2\n",
    "(U, s, Vh) = svd(X)\n",
    "beta = Vh[0]\n",
    "for i in range(10000):\n",
    "    beta = beta - lr * PCA_grad(Sigma,beta)\n",
    "    beta = scad(beta,lr * lamb)\n",
    "    #beta = beta + 0.001 * np.dot(Sigma, beta)\n",
    "    #beta=beta/np.linalg.norm(beta)\n",
    "beta"
   ]
  },
  {
   "cell_type": "markdown",
   "metadata": {},
   "source": [
    "# Lasso via prox"
   ]
  },
  {
   "cell_type": "code",
   "execution_count": 154,
   "metadata": {},
   "outputs": [
    {
     "data": {
      "text/plain": [
       "array([-1.23346216, -0.07115705, -0.11594263, -0.        , -0.        ,\n",
       "       -0.00434701, -0.        , -0.        , -0.        ,  0.        ])"
      ]
     },
     "execution_count": 154,
     "metadata": {},
     "output_type": "execute_result"
    }
   ],
   "source": [
    "lr = 0.01\n",
    "lamb = 0.5\n",
    "(U, s, Vh) = svd(X)\n",
    "beta = Vh[0]\n",
    "for i in range(1000):\n",
    "    # print(SCAD_ccv_grad(beta,lamb))\n",
    "    beta = beta - lr * (PCA_grad(Sigma,beta))\n",
    "    beta = prox_l1(beta,lr * lamb)\n",
    "    #beta = beta + 0.001 * np.dot(Sigma, beta)\n",
    "    #beta=beta/np.linalg.norm(beta)\n",
    "beta"
   ]
  },
  {
   "cell_type": "markdown",
   "metadata": {},
   "source": [
    "# Prox by splitting scad"
   ]
  },
  {
   "cell_type": "code",
   "execution_count": 156,
   "metadata": {},
   "outputs": [
    {
     "data": {
      "text/plain": [
       "array([-1.20994616, -0.0731463 , -0.12498379, -0.        , -0.        ,\n",
       "       -0.        , -0.        , -0.        , -0.        ,  0.        ])"
      ]
     },
     "execution_count": 156,
     "metadata": {},
     "output_type": "execute_result"
    }
   ],
   "source": [
    "lr = 0.01\n",
    "lamb = 0.5\n",
    "(U, s, Vh) = svd(X)\n",
    "beta = Vh[0]\n",
    "for i in range(10000):\n",
    "    # print(SCAD_ccv_grad(beta,lamb))\n",
    "    beta = beta - lr * (PCA_grad(Sigma,beta)+SCAD_ccv_grad(beta,lamb))\n",
    "    beta = prox_l1(beta,lr * lamb)\n",
    "    #beta = beta + 0.001 * np.dot(Sigma, beta)\n",
    "    #beta=beta/np.linalg.norm(beta)\n",
    "beta"
   ]
  },
  {
   "cell_type": "markdown",
   "metadata": {},
   "source": [
    "# Prox-MCP"
   ]
  },
  {
   "cell_type": "code",
   "execution_count": 157,
   "metadata": {},
   "outputs": [],
   "source": [
    "def MCP_ccv_grad(beta,lamb,a=3.7):\n",
    "    piece1 = piecewise(beta/a,np.abs(beta)<=a*lamb)\n",
    "    piece2 = piecewise(lamb*np.sign(beta),a*lamb<np.abs(beta))\n",
    "    return piece1+piece2"
   ]
  },
  {
   "cell_type": "code",
   "execution_count": 159,
   "metadata": {},
   "outputs": [
    {
     "data": {
      "text/plain": [
       "array([-1.21119667, -0.27002091, -0.23841976, -0.10065838, -0.12502745,\n",
       "       -0.21785346, -0.09882983, -0.09878744, -0.11976042,  0.05303728])"
      ]
     },
     "execution_count": 159,
     "metadata": {},
     "output_type": "execute_result"
    }
   ],
   "source": [
    "lr = 0.01\n",
    "lamb = 0.05\n",
    "(U, s, Vh) = svd(X)\n",
    "beta = Vh[0]\n",
    "for i in range(1000):\n",
    "    # print(SCAD_ccv_grad(beta,lamb))\n",
    "    beta = beta - lr * (PCA_grad(Sigma,beta)+MCP_ccv_grad(beta,lamb))\n",
    "    beta = prox(beta,lr * lamb)\n",
    "    #beta = beta + 0.001 * np.dot(Sigma, beta)\n",
    "    #beta=beta/np.linalg.norm(beta)\n",
    "beta"
   ]
  },
  {
   "cell_type": "markdown",
   "metadata": {},
   "source": [
    "# Misc: Sparse linear regression with scad"
   ]
  },
  {
   "cell_type": "code",
   "execution_count": 168,
   "metadata": {},
   "outputs": [],
   "source": [
    "X = np.random.multivariate_normal(np.zeros(6),np.eye(6),size=500)\n",
    "beta_star = np.array([1,2,3,0,0,0])\n",
    "Y = np.dot(X,beta_star) + np.random.normal(scale=.2,size=500)"
   ]
  },
  {
   "cell_type": "code",
   "execution_count": 169,
   "metadata": {},
   "outputs": [],
   "source": [
    "# LASSO\n",
    "lr = 0.01\n",
    "lamb = 0.5\n",
    "samp_cov = np.dot(X.T,X)\n",
    "xty = np.dot(X.T,Y)\n",
    "beta = np.array([0.1,-0.1,0.2,0.1,0.3,-0.4])\n",
    "for i in range(500):\n",
    "    beta = beta - lr * 1/500 *(np.dot(samp_cov,beta)-xty)\n",
    "    beta = prox_l1(beta,lr * lamb)"
   ]
  },
  {
   "cell_type": "code",
   "execution_count": 170,
   "metadata": {},
   "outputs": [
    {
     "data": {
      "text/plain": [
       "array([0.50670734, 1.49870626, 2.44394081, 0.        , 0.        ,\n",
       "       0.        ])"
      ]
     },
     "execution_count": 170,
     "metadata": {},
     "output_type": "execute_result"
    }
   ],
   "source": [
    "beta"
   ]
  },
  {
   "cell_type": "code",
   "execution_count": 171,
   "metadata": {},
   "outputs": [
    {
     "data": {
      "text/plain": [
       "array([0.50671657, 1.49799937, 2.44290671, 0.        , 0.        ,\n",
       "       0.        ])"
      ]
     },
     "execution_count": 171,
     "metadata": {},
     "output_type": "execute_result"
    }
   ],
   "source": [
    "# Splitting SCAD\n",
    "lr = 0.01\n",
    "lamb = 0.5\n",
    "samp_cov = np.dot(X.T,X)\n",
    "xty = np.dot(X.T,Y)\n",
    "beta = np.array([0.1,-0.1,0.2,0.1,0.3,-0.4])\n",
    "for i in range(500):\n",
    "    beta = beta - lr * 1/500 *(np.dot(samp_cov,beta)-xty+SCAD_ccv_grad(beta,lamb))\n",
    "    beta = prox_l1(beta,lr * lamb)\n",
    "beta"
   ]
  },
  {
   "cell_type": "code",
   "execution_count": 173,
   "metadata": {},
   "outputs": [
    {
     "data": {
      "text/plain": [
       "array([0.99076671, 2.00055681, 2.9571877 , 0.        , 0.        ,\n",
       "       0.        ])"
      ]
     },
     "execution_count": 173,
     "metadata": {},
     "output_type": "execute_result"
    }
   ],
   "source": [
    "# Prox gradient with scad, this actually works for debiasing\n",
    "lr = 0.01\n",
    "lamb = 0.5\n",
    "samp_cov = np.dot(X.T,X)\n",
    "xty = np.dot(X.T,Y)\n",
    "beta = np.array([0.1,-0.1,0.2,0.1,0.3,-0.4])\n",
    "for i in range(500):\n",
    "    beta = beta - lr * 1/500 *(np.dot(samp_cov,beta)-xty)\n",
    "    beta = scad(beta,lr * lamb)\n",
    "beta"
   ]
  }
 ],
 "metadata": {
  "kernelspec": {
   "display_name": "Python 3",
   "language": "python",
   "name": "python3"
  },
  "language_info": {
   "codemirror_mode": {
    "name": "ipython",
    "version": 3
   },
   "file_extension": ".py",
   "mimetype": "text/x-python",
   "name": "python",
   "nbconvert_exporter": "python",
   "pygments_lexer": "ipython3",
   "version": "3.5.2"
  }
 },
 "nbformat": 4,
 "nbformat_minor": 2
}
